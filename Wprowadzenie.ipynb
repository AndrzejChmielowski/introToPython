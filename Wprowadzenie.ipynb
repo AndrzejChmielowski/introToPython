{
 "cells": [
  {
   "cell_type": "markdown",
   "metadata": {
    "slideshow": {
     "slide_type": "slide"
    }
   },
   "source": [
    "# Temat: Wprowadzenie do Pythona\n",
    "&nbsp; \n",
    "\n",
    "### Tomasz Dwojak"
   ]
  },
  {
   "cell_type": "markdown",
   "metadata": {
    "slideshow": {
     "slide_type": "slide"
    }
   },
   "source": [
    " * Tomasz Dwojak\n",
    " * Doktorant UAM\n",
    " * Zainteresowania naukowe: NLP & SMT\n",
    " * <t.dwojak@amu.edu.pl>\n",
    " * Pokój: B2-36\n",
    " * 5-letnia przygoda z Pythonem\n",
    "    "
   ]
  },
  {
   "cell_type": "markdown",
   "metadata": {
    "slideshow": {
     "slide_type": "slide"
    }
   },
   "source": [
    "## Warunki zaliczenia\n",
    " * obowiązkowa obecność,\n",
    " * 3 zadania domowe (10 p.)"
   ]
  },
  {
   "cell_type": "markdown",
   "metadata": {
    "slideshow": {
     "slide_type": "slide"
    }
   },
   "source": [
    "## Ramowy plan zajęć\n",
    " * Ogólne wprowadzenie do Pythona (2:15h),\n",
    " * Data Analysis w Pythonie (3h),\n",
    " * Pythonowe rozmaitości (2:15h)."
   ]
  },
  {
   "cell_type": "markdown",
   "metadata": {
    "slideshow": {
     "slide_type": "slide"
    }
   },
   "source": [
    "## Przydatne zasoby\n",
    " * [Zanurkuj w Pythonie](https://upload.wikimedia.org/wikibooks/pl/5/5e/Zanurkuj_w_Pythonie.pdf),\n",
    " * [Kurs Pythona na DataCamp](https://campus.datacamp.com/courses/intro-to-python-for-data-science),\n",
    " * [Kursy na Courserze](https://www.coursera.org/courses?_facet_changed_=true&languages=en&primaryLanguages=en&query=python)\n",
    " * [Kurs na edX: Introduction to Python for Data Science (start 7-06-16]](https://www.edx.org/course/introduction-python-data-science-microsoft-dat208x-1)\n"
   ]
  },
  {
   "cell_type": "markdown",
   "metadata": {
    "slideshow": {
     "slide_type": "slide"
    }
   },
   "source": [
    "## Środowisko pracy\n",
    " * Python 3.*,\n",
    " * narzędzia: Ipython Notebook / Jupyter,\n",
    " * Pracujesz na Windowsie lub OS X? Poznaj [Anacondę](https://www.continuum.io/downloads)!\n",
    " * Pliki do pracy: <https://github.com/tomekd/introToPython>"
   ]
  },
  {
   "cell_type": "markdown",
   "metadata": {
    "slideshow": {
     "slide_type": "slide"
    }
   },
   "source": [
    "## Dlaczego Python?"
   ]
  },
  {
   "cell_type": "markdown",
   "metadata": {
    "slideshow": {
     "slide_type": "fragment"
    }
   },
   "source": [
    " * język programowania dla wszystkich: programistów, naukowców, pasjonatów;"
   ]
  },
  {
   "cell_type": "markdown",
   "metadata": {
    "slideshow": {
     "slide_type": "fragment"
    }
   },
   "source": [
    " * posiada ogromną liczbę [modułów](https://pypi.python.org/pypi) (80.000), które ułatwiają pracę;"
   ]
  },
  {
   "cell_type": "markdown",
   "metadata": {
    "slideshow": {
     "slide_type": "fragment"
    }
   },
   "source": [
    " *  można tak napisać kod, aby był wydajny (Cython, PyPy);"
   ]
  },
  {
   "cell_type": "markdown",
   "metadata": {
    "slideshow": {
     "slide_type": "fragment"
    }
   },
   "source": [
    " * Aktualnie zajmuje 5 miejsce pod względem popularności [(TIOBE Index)](http://www.tiobe.com/tiobe_index);"
   ]
  },
  {
   "cell_type": "markdown",
   "metadata": {
    "slideshow": {
     "slide_type": "fragment"
    }
   },
   "source": [
    " * Różne wersje: Python, Cython (C), Jython (Java), IronPython (C#)."
   ]
  },
  {
   "cell_type": "markdown",
   "metadata": {
    "slideshow": {
     "slide_type": "slide"
    }
   },
   "source": [
    "# Pytania?"
   ]
  },
  {
   "cell_type": "markdown",
   "metadata": {
    "slideshow": {
     "slide_type": "slide"
    }
   },
   "source": [
    "## Jak uruchomić IPythona? (Windows)\n",
    "\n",
    " * Start $\\rightarrow$ All programs $\\rightarrow$ Development $\\rightarrow$ Jupyter (Notebok)\n",
    " * Znajdujemy nasz notebook,\n",
    " * Przydatne skróty: Ctrl+Enter, Shift+Enter"
   ]
  }
 ],
 "metadata": {
  "celltoolbar": "Slideshow",
  "kernelspec": {
   "display_name": "IPython (Python 2)",
   "language": "python",
   "name": "python2"
  },
  "language_info": {
   "codemirror_mode": {
    "name": "ipython",
    "version": 2
   },
   "file_extension": ".py",
   "mimetype": "text/x-python",
   "name": "python",
   "nbconvert_exporter": "python",
   "pygments_lexer": "ipython2",
   "version": "2.7.11+"
  }
 },
 "nbformat": 4,
 "nbformat_minor": 0
}
