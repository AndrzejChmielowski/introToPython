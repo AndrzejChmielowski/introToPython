{
 "cells": [
  {
   "cell_type": "markdown",
   "metadata": {},
   "source": [
    "Poniższe zadania maja na celu utrwalenie materiału poznanego w pierwszej części kursu."
   ]
  },
  {
   "cell_type": "markdown",
   "metadata": {},
   "source": [
    "**zad. 1** Otwórz notebook z filmiku. Zobacz, czy wszystko jest zrozumiałe. Pozmieniaj zawartości komórek. Upewnij się, że rozumiesz kod."
   ]
  },
  {
   "cell_type": "markdown",
   "metadata": {},
   "source": [
    "**zad. 2** Oktylion to $10^{48}$. Wypisz na ekran jego wartość, poprzedzając go komentarzem: \"To jest oktylion:\"."
   ]
  },
  {
   "cell_type": "markdown",
   "metadata": {},
   "source": [
    "**zad. 3** Wskaźnik masy ciała (BMI) oblicza się z następującego wzoru: $$\\frac{masa}{wzrost^2}$$, gdzie masa jest podana w kilogramach, a wzrost w metrach. Poniżej znajdziesz dwie zmienne, które zawierają masę ciała i wzrost (w cm) pewnej osoby. Wyświetl na ekran wartość BMI."
   ]
  },
  {
   "cell_type": "code",
   "execution_count": 1,
   "metadata": {
    "collapsed": true
   },
   "outputs": [],
   "source": [
    "masa = 80\n",
    "wzrost = 180"
   ]
  },
  {
   "cell_type": "code",
   "execution_count": null,
   "metadata": {
    "collapsed": true
   },
   "outputs": [],
   "source": []
  },
  {
   "cell_type": "markdown",
   "metadata": {},
   "source": [
    "**zad. 4** Oblicz procent składamy z kapitału początkowego 100 zł przy oprocentowaniu 5% w skali roku po 7 latach oszczędzania."
   ]
  },
  {
   "cell_type": "code",
   "execution_count": null,
   "metadata": {
    "collapsed": true
   },
   "outputs": [],
   "source": []
  }
 ],
 "metadata": {
  "kernelspec": {
   "display_name": "Python 3",
   "language": "python",
   "name": "python3"
  },
  "language_info": {
   "codemirror_mode": {
    "name": "ipython",
    "version": 3
   },
   "file_extension": ".py",
   "mimetype": "text/x-python",
   "name": "python",
   "nbconvert_exporter": "python",
   "pygments_lexer": "ipython3",
   "version": "3.5.1+"
  }
 },
 "nbformat": 4,
 "nbformat_minor": 0
}
