{
 "metadata": {
  "name": "",
  "signature": "sha256:3e05fdfa78c42795f0c86058e01a5af6b5e54bef270837262d92a6b8b07206fb"
 },
 "nbformat": 3,
 "nbformat_minor": 0,
 "worksheets": [
  {
   "cells": [
    {
     "cell_type": "markdown",
     "metadata": {},
     "source": [
      "# Og\u00f3lne wprowadzenie do Pythona\n",
      "\n",
      "&nbsp;\n",
      "\n",
      "## 5 czerwca 2016 r."
     ]
    },
    {
     "cell_type": "markdown",
     "metadata": {},
     "source": [
      "## Hello Python!"
     ]
    },
    {
     "cell_type": "code",
     "collapsed": false,
     "input": [
      "print 'Hello Python'\n",
      "print 10 \n",
      "print 3.14\n",
      "print 123456789 * 987654321\n",
      "print 10 ** 20\n",
      "print 12 ** (3+4 *(567 % 8) / 9)\n",
      "print \"PI:\", 3.1415"
     ],
     "language": "python",
     "metadata": {},
     "outputs": []
    },
    {
     "cell_type": "markdown",
     "metadata": {},
     "source": [
      "## Komentarze\n",
      " * Komentarze w Pythonie zaczynaj\u0105 si\u0119 od '#',\n",
      " * Komentarze nie s\u0105 interpretowane."
     ]
    },
    {
     "cell_type": "code",
     "collapsed": false,
     "input": [
      "print \"Ala ma kota.\" # A to jest komentarz\n",
      "# print(\"Nie chc\u0119 by\u0107 wydrukowanym\")"
     ],
     "language": "python",
     "metadata": {},
     "outputs": []
    },
    {
     "cell_type": "markdown",
     "metadata": {},
     "source": [
      "## Zmienne\n",
      " * case sensitive,\n",
      " * brak deklaracji typu,\n",
      " * do zmiennej mo\u017cna przypisa\u0107 ka\u017cdy obiekt"
     ]
    },
    {
     "cell_type": "code",
     "collapsed": false,
     "input": [
      "zmienna = \"Zmienna\"\n",
      "zmienna = 10 ** 44\n",
      "ocena_z_pythona = 5\n",
      "pi = 3.1415\n",
      "imie_prowadzacego = 'Tomek'\n",
      "nazwisko_prowadzego = \"Dwojak\"\n",
      "czy_lubie_pythona = True "
     ],
     "language": "python",
     "metadata": {},
     "outputs": []
    },
    {
     "cell_type": "code",
     "collapsed": false,
     "input": [
      "print type(ocena_z_pythona)\n",
      "print type(pi)\n",
      "print type(imie_prowadzacego)\n",
      "print type(nazwisko_prowadzego)\n",
      "print type(czy_lubie_pythona)"
     ],
     "language": "python",
     "metadata": {},
     "outputs": []
    },
    {
     "cell_type": "markdown",
     "metadata": {},
     "source": [
      "## Listy\n",
      " * W Pythonie nie ma tablic, s\u0105 listy;\n",
      " * Listy mog\u0105 przechowywa\u0107 elementy r\u00f3\u017cnych typ\u00f3w;\n",
      " * Indeksowanie zaczyna si\u0119 od 0."
     ]
    },
    {
     "cell_type": "code",
     "collapsed": false,
     "input": [
      "pusta_lista = [] # albo r\u00f3wnowa\u017cnie pusta_lista = list()\n",
      "oceny = [5, 4, 3, 5, 5]\n",
      "roznosci = [3.14, \"pi\", [\"pi\"], 3]\n",
      "ciag_10_elem = range(10)\n",
      "\n",
      "print \"ci\u0105g:\", ciag_10_elem\n",
      "print \"ro\u017cno\u015bci:\", roznosci"
     ],
     "language": "python",
     "metadata": {},
     "outputs": []
    },
    {
     "cell_type": "markdown",
     "metadata": {},
     "source": [
      "## Dodawanie i usuwanie element\u00f3w z listy"
     ]
    },
    {
     "cell_type": "code",
     "collapsed": false,
     "input": [
      "oceny.append(6) # Dodanie elementu na koniec\n",
      "print oceny"
     ],
     "language": "python",
     "metadata": {},
     "outputs": []
    },
    {
     "cell_type": "code",
     "collapsed": false,
     "input": [
      "oceny.extend([4,4,4]) # Rozszerzenie o tablice\n",
      "print oceny"
     ],
     "language": "python",
     "metadata": {},
     "outputs": []
    },
    {
     "cell_type": "code",
     "collapsed": false,
     "input": [
      "oceny.pop() # Domy\u015blnie usuwa ostatni element z listy\n",
      "print oceny"
     ],
     "language": "python",
     "metadata": {},
     "outputs": []
    },
    {
     "cell_type": "markdown",
     "metadata": {},
     "source": [
      "## Indeksowanie"
     ]
    },
    {
     "cell_type": "code",
     "collapsed": false,
     "input": [
      "print oceny\n",
      "print 'pierwszy element:', oceny[0]\n",
      "print 'ostatni element:', oceny[-1]\n",
      "print '5 pierwszych:', oceny[:5]\n",
      "print '5 ostatnich', oceny[-5:]\n",
      "print 'od drugiego, do pi\u0105tego', oceny[1:5]\n",
      "print 'parzyste:', oceny[::2]\n",
      "print 'od ty\u0142u', oceny[::-1]"
     ],
     "language": "python",
     "metadata": {},
     "outputs": []
    },
    {
     "cell_type": "markdown",
     "metadata": {},
     "source": [
      "## Co mo\u017cemy zrobi\u0107 z list\u0105?"
     ]
    },
    {
     "cell_type": "code",
     "collapsed": false,
     "input": [
      "oceny.sort()\n",
      "print oceny\n",
      "oceny.reverse()\n",
      "print \"liczba pi\u0105tek\", oceny.count(5)"
     ],
     "language": "python",
     "metadata": {},
     "outputs": []
    },
    {
     "cell_type": "markdown",
     "metadata": {},
     "source": [
      "## P\u0119tla *''for''*\n",
      " * W Pythonie p\u0119tla *for* dzia\u0142a jak p\u0119tla *for each* w innych j\u0119zykach;\n",
      " * W Pythonie nie ma klamr, ani *begin* i *end*; jako cia\u0142o p\u0119tli musi by\u0107 wci\u0119te (najcze\u015bciej 4 spacje)."
     ]
    },
    {
     "cell_type": "code",
     "collapsed": false,
     "input": [
      "for i in range(5): # range[5] = [0,1,2,3,4]\n",
      "    print 'element:', i # Uwaga wci\u0119cie!"
     ],
     "language": "python",
     "metadata": {},
     "outputs": []
    },
    {
     "cell_type": "code",
     "collapsed": false,
     "input": [
      "for ocena in oceny:\n",
      "    print \"Ocena:\", ocena"
     ],
     "language": "python",
     "metadata": {},
     "outputs": []
    },
    {
     "cell_type": "markdown",
     "metadata": {},
     "source": [
      "## Lista kwadrat\u00f3w na dwojaki spos\u00f3b"
     ]
    },
    {
     "cell_type": "code",
     "collapsed": false,
     "input": [
      "kwadraty = []\n",
      "for i in range(10):\n",
      "    kwadraty.append(i ** 2)\n",
      "print(kwadraty)"
     ],
     "language": "python",
     "metadata": {},
     "outputs": []
    },
    {
     "cell_type": "code",
     "collapsed": false,
     "input": [
      "kwadraty2 = [i ** 2 for i in range(10)]\n",
      "print(kwadraty2)"
     ],
     "language": "python",
     "metadata": {},
     "outputs": []
    },
    {
     "cell_type": "markdown",
     "metadata": {},
     "source": [
      "## S\u0142owniki, czyli mapy"
     ]
    },
    {
     "cell_type": "code",
     "collapsed": false,
     "input": [
      "slownik = {}\n",
      "s_oceny = {\"Justyna\" : [5,5,5], \"Bartek\" : [3,4,5], \"Ola\": [3,3,3]}\n",
      "print s_oceny"
     ],
     "language": "python",
     "metadata": {},
     "outputs": []
    },
    {
     "cell_type": "code",
     "collapsed": false,
     "input": [
      "s_oceny['Ala'] = [2,2,2,4,4,4, 3,3,3]\n",
      "print s_oceny"
     ],
     "language": "python",
     "metadata": {},
     "outputs": []
    },
    {
     "cell_type": "markdown",
     "metadata": {},
     "source": [
      "## Iterowanie po s\u0142owniku"
     ]
    },
    {
     "cell_type": "code",
     "collapsed": false,
     "input": [
      "for osoba in s_oceny:\n",
      "    print osoba,':', s_oceny[osoba]"
     ],
     "language": "python",
     "metadata": {},
     "outputs": []
    },
    {
     "cell_type": "code",
     "collapsed": false,
     "input": [
      "for osoba, oceny in s_oceny.items():\n",
      "    print osoba,':', oceny"
     ],
     "language": "python",
     "metadata": {},
     "outputs": []
    },
    {
     "cell_type": "markdown",
     "metadata": {},
     "source": [
      "## Instrukcja steruj\u0105ca \"if ... else\""
     ]
    },
    {
     "cell_type": "markdown",
     "metadata": {},
     "source": [
      " * dzia\u0142a tak samo, jak w innych j\u0119zyka;\n",
      " * jest dodatkowa instrukcja nast\u0119pnego warunku *elif...*;"
     ]
    },
    {
     "cell_type": "code",
     "collapsed": false,
     "input": [
      "zmienna = -0\n",
      "if zmienna < 0:\n",
      "    print \"Ujemna!\"\n",
      "elif zmienna == 0:\n",
      "    print \"Zero!\"\n",
      "else:\n",
      "    print \"Dodatnia!\""
     ],
     "language": "python",
     "metadata": {},
     "outputs": []
    },
    {
     "cell_type": "code",
     "collapsed": false,
     "input": [
      "if \"Ala\" in s_oceny:\n",
      "    print \"Ala jest w grupie!\"\n",
      "else:\n",
      "    print \"Niestety Ali nie ma  grupie!\""
     ],
     "language": "python",
     "metadata": {},
     "outputs": []
    },
    {
     "cell_type": "markdown",
     "metadata": {},
     "source": [
      "## Funkcje"
     ]
    },
    {
     "cell_type": "code",
     "collapsed": false,
     "input": [
      "def is_greater_than_5(x):\n",
      "    if x > 5:\n",
      "        return True\n",
      "    else:\n",
      "        return False"
     ],
     "language": "python",
     "metadata": {},
     "outputs": []
    },
    {
     "cell_type": "code",
     "collapsed": false,
     "input": [
      "print is_greater_than_5(5)\n",
      "print is_greater_than_5(-100)\n",
      "print is_greater_than_5(500)"
     ],
     "language": "python",
     "metadata": {},
     "outputs": []
    }
   ],
   "metadata": {}
  }
 ]
}