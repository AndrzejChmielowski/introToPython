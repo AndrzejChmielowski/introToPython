{
 "cells": [
  {
   "cell_type": "markdown",
   "metadata": {},
   "source": [
    "## Pandas"
   ]
  },
  {
   "cell_type": "markdown",
   "metadata": {},
   "source": [
    "Python posiada wiele bibliotek do szekoro rozumianej analizy danych. Do najbardziej popularniejszych należą:\n",
    " * pandas,\n",
    " * scipy,\n",
    " * scikit-learn\n",
    " \n",
    "Dziś poznamy pierwszą z nich."
   ]
  },
  {
   "cell_type": "code",
   "execution_count": null,
   "metadata": {
    "collapsed": true
   },
   "outputs": [],
   "source": [
    "# Render our plots inline\n",
    "%matplotlib inline\n",
    "\n",
    "import pandas as pd\n",
    "import matplotlib.pyplot as plt\n",
    "\n",
    "import matplotlib\n",
    "matplotlib.style.use('ggplot')\n",
    "\n",
    "plt.rcParams['figure.figsize'] = (15, 5)"
   ]
  },
  {
   "cell_type": "markdown",
   "metadata": {},
   "source": [
    "Powyższe instrukcje importują odpowiednie moduły. Jeżeli wystąpił błąd z powodu braku odpowiedniego modułu, należy zainstalować bibliotekę pandas ręcznie:"
   ]
  },
  {
   "cell_type": "markdown",
   "metadata": {},
   "source": [
    "```$ pip install pandas --user```"
   ]
  },
  {
   "cell_type": "markdown",
   "metadata": {},
   "source": [
    "## Wczytywanie danych"
   ]
  },
  {
   "cell_type": "markdown",
   "metadata": {},
   "source": [
    "W pliku **bikes.csv** znajdują się dane dotyczące 7 ścieżek rowerowych w Montrealu (liczba rowerzystów)."
   ]
  },
  {
   "cell_type": "code",
   "execution_count": null,
   "metadata": {
    "collapsed": false
   },
   "outputs": [],
   "source": [
    "bike_data = pd.read_csv('bikes.csv')"
   ]
  },
  {
   "cell_type": "markdown",
   "metadata": {},
   "source": [
    "Wyświetlmy kilka początkowych wierszy:"
   ]
  },
  {
   "cell_type": "code",
   "execution_count": null,
   "metadata": {
    "collapsed": false,
    "scrolled": true
   },
   "outputs": [],
   "source": [
    "bike_data[:5]"
   ]
  },
  {
   "cell_type": "markdown",
   "metadata": {},
   "source": [
    "Mamy kilka potencjalnych problemów:\n",
    " * dane są rozdzielone przy pomocy średnika ```;```,\n",
    " * złe kodowanie znaków (latin1,\n",
    " * w pierwszej kolumnie są daty "
   ]
  },
  {
   "cell_type": "code",
   "execution_count": null,
   "metadata": {
    "collapsed": false
   },
   "outputs": [],
   "source": [
    "bike_data = pd.read_csv('bikes.csv', # ścieżka  do pliku\n",
    "                        sep=';', # separator\n",
    "                        encoding='latin1', # kodowanie\n",
    "                        parse_dates=['Date'], # kolumny, w których występują daty\n",
    "                        dayfirst=True, # format dzień - miesiąc - rok\n",
    "                        index_col='Date') # ustawienie indeksu na kolumnę Date"
   ]
  },
  {
   "cell_type": "code",
   "execution_count": null,
   "metadata": {
    "collapsed": false
   },
   "outputs": [],
   "source": [
    "bike_data[:5]"
   ]
  },
  {
   "cell_type": "markdown",
   "metadata": {},
   "source": [
    "Podstawowym typem w Pandasie jest ```DataFrame``` -- ramka danych, podobna do tej, którą znasz z języka R.\n",
    "Ramka danych jest podobna w obsłudze do zwykłego słownika ```dict```."
   ]
  },
  {
   "cell_type": "code",
   "execution_count": null,
   "metadata": {
    "collapsed": false
   },
   "outputs": [],
   "source": [
    "type(bike_data)"
   ]
  },
  {
   "cell_type": "markdown",
   "metadata": {},
   "source": [
    "Żeby wyświetlić dane umieszczone w w kolumnie **Berri 1**, należy:"
   ]
  },
  {
   "cell_type": "code",
   "execution_count": null,
   "metadata": {
    "collapsed": false
   },
   "outputs": [],
   "source": [
    "bike_data['Berri 1']"
   ]
  },
  {
   "cell_type": "markdown",
   "metadata": {},
   "source": [
    "Mamy dwie kolumny: indeks i zawartość kolumny **Berri 1**. "
   ]
  },
  {
   "cell_type": "markdown",
   "metadata": {},
   "source": [
    "Żeby wyświetlić wykres z tych danych należy wywołać metodę ```plot```:"
   ]
  },
  {
   "cell_type": "code",
   "execution_count": null,
   "metadata": {
    "collapsed": false
   },
   "outputs": [],
   "source": [
    "bike_data[\"Berri 1\"].plot()"
   ]
  },
  {
   "cell_type": "markdown",
   "metadata": {},
   "source": [
    "**Zadanie: ** Jakie wnioski możesz wyciągnąć z na podstawie tego wykresu?"
   ]
  },
  {
   "cell_type": "markdown",
   "metadata": {},
   "source": [
    "**Zadanie: ** Narysuj wykres na dwóch dowolnych innych ścieżek."
   ]
  },
  {
   "cell_type": "code",
   "execution_count": null,
   "metadata": {
    "collapsed": true
   },
   "outputs": [],
   "source": []
  },
  {
   "cell_type": "markdown",
   "metadata": {},
   "source": [
    "Możemy narysować wszystkie wykresy na raz:"
   ]
  },
  {
   "cell_type": "code",
   "execution_count": null,
   "metadata": {
    "collapsed": false
   },
   "outputs": [],
   "source": [
    "bike_data.plot()"
   ]
  },
  {
   "cell_type": "markdown",
   "metadata": {},
   "source": [
    "**Zadanie:** Co możesz powiedzieć na podstawie powyższego wykresu?"
   ]
  },
  {
   "cell_type": "markdown",
   "metadata": {},
   "source": [
    "**Zadanie:** Wczytaj dane z arkusza *311-service-requests.csv* do zmiennej ```complaints```."
   ]
  },
  {
   "cell_type": "code",
   "execution_count": null,
   "metadata": {
    "collapsed": false
   },
   "outputs": [],
   "source": []
  },
  {
   "cell_type": "code",
   "execution_count": null,
   "metadata": {
    "collapsed": false
   },
   "outputs": [],
   "source": [
    "complaints[:5]"
   ]
  },
  {
   "cell_type": "markdown",
   "metadata": {},
   "source": [
    "**Zadanie:** Wyświetl zawartość kolumny ```\"Complaint Type\"```."
   ]
  },
  {
   "cell_type": "code",
   "execution_count": null,
   "metadata": {
    "collapsed": true
   },
   "outputs": [],
   "source": []
  },
  {
   "cell_type": "markdown",
   "metadata": {},
   "source": [
    "Typ ```DataFrame``` pozwala na stosowanie obu indeksowań jednocześnie. Jeżeli chcemy wyświetlić 10 pierwszych elementów z kolumny ```\"Complaint Type\"```, to wystarczy:"
   ]
  },
  {
   "cell_type": "code",
   "execution_count": null,
   "metadata": {
    "collapsed": false
   },
   "outputs": [],
   "source": [
    "complaints[\"Complaint Type\"][:10]"
   ]
  },
  {
   "cell_type": "markdown",
   "metadata": {},
   "source": [
    "Kolejność indeksowania nie ma znaczenia:"
   ]
  },
  {
   "cell_type": "code",
   "execution_count": null,
   "metadata": {
    "collapsed": false
   },
   "outputs": [],
   "source": [
    "complaints[:10][\"Complaint Type\"]"
   ]
  },
  {
   "cell_type": "markdown",
   "metadata": {},
   "source": [
    "**Zadanie:** Podaj nazwy ulic (kolumna ```Street Name```) 3 ostatnich incydntów."
   ]
  },
  {
   "cell_type": "code",
   "execution_count": null,
   "metadata": {
    "collapsed": false
   },
   "outputs": [],
   "source": []
  },
  {
   "cell_type": "markdown",
   "metadata": {},
   "source": [
    "Często interesują nas zależności pomiedzy dwoma kolumnami. Żeby wyświetlić dane z kilku kolumn musimy podać listę z nazwami kolun, które nas interesują. Na przykład, chcąc wyświetlić dane z kolumn: ```Complaint Type``` i ```Borough```:"
   ]
  },
  {
   "cell_type": "code",
   "execution_count": null,
   "metadata": {
    "collapsed": false
   },
   "outputs": [],
   "source": [
    " complaints[['Complaint Type', 'Borough']]"
   ]
  },
  {
   "cell_type": "markdown",
   "metadata": {},
   "source": [
    "Niektóre typy danych mogą przyjmować skończony zbiór wartości: np. dzień tygodnia, próg podatkowy, dzielnica w mieście. Możemy w takim przypadku zrobić podsumowanie:"
   ]
  },
  {
   "cell_type": "code",
   "execution_count": null,
   "metadata": {
    "collapsed": false
   },
   "outputs": [],
   "source": [
    "complaints['Complaint Type'].value_counts()"
   ]
  },
  {
   "cell_type": "markdown",
   "metadata": {},
   "source": [
    "Jaki typ danych zwróciłą metoda ```complaints['Complaint Type'].value_counts()```? Jest to oczywiście ```DataFrame```. "
   ]
  },
  {
   "cell_type": "markdown",
   "metadata": {},
   "source": [
    "**Zadanie:** \n",
    " * przypisz 10 naczęstszych zażaleń (wraz z krotnościami) do zmiennej most_common_complaints.\n",
    " * Narysuj wykres słupkowy, który będzie wizualizował te dane.\n",
    " \n",
    "*Uwaga:* Żeby narysować wykres słupkowy należy podać do metody ```plot``` argument ```kind='bar'```."
   ]
  },
  {
   "cell_type": "code",
   "execution_count": null,
   "metadata": {
    "collapsed": true
   },
   "outputs": [],
   "source": []
  },
  {
   "cell_type": "markdown",
   "metadata": {},
   "source": [
    "Żeby wybrać tylko te wiersze, które zawierają ```Noise - Street/Sidewalk``` jako ```Complaint Type``` należy:"
   ]
  },
  {
   "cell_type": "code",
   "execution_count": null,
   "metadata": {
    "collapsed": false
   },
   "outputs": [],
   "source": [
    "complaints[complaints['Complaint Type'] == \"Noise - Street/Sidewalk\"]"
   ]
  },
  {
   "cell_type": "markdown",
   "metadata": {},
   "source": [
    "Co zwraca ```complaints['Complaint Type'] == \"Noise - Street/Sidewalk\"```?\n",
    "\n",
    "Wynikiem tej operacji jest tablica **True/False**, zwracająca **True** gdy ```Complaint Type``` jest równa ```Noise - Street/Sidewalk```\n"
   ]
  },
  {
   "cell_type": "markdown",
   "metadata": {},
   "source": [
    "Możemy składać zapytania, np. ograczając się tylko do tych wypadków, które miały miejsce na Brooklynie:"
   ]
  },
  {
   "cell_type": "code",
   "execution_count": null,
   "metadata": {
    "collapsed": false
   },
   "outputs": [],
   "source": [
    "is_noise = complaints['Complaint Type'] == \"Noise - Street/Sidewalk\"\n",
    "in_brooklyn = complaints['Borough'] == \"BROOKLYN\"\n",
    "complaints[is_noise & in_brooklyn][:5]"
   ]
  },
  {
   "cell_type": "markdown",
   "metadata": {},
   "source": [
    "**Zadanie:** Ile było wypadków, które miały miejsce na *Manhattanie*, a które zarejestrowała policja (*NYPD*)? (odp. 3657)"
   ]
  },
  {
   "cell_type": "code",
   "execution_count": null,
   "metadata": {
    "collapsed": false
   },
   "outputs": [],
   "source": []
  },
  {
   "cell_type": "markdown",
   "metadata": {},
   "source": [
    "**Zadanie:**\n",
    " * przypisz do zmiennej is_noise_complaints ramkę danych, która zawiera tylko te dane, które mają \"Complaint Type\" równy \"Noise - Street/Sidewalk\". \n",
    " * Dodaj wykres słupkowy, który wyświetli podział powyższych danych po dzielnicach (kolumna Borough)."
   ]
  },
  {
   "cell_type": "code",
   "execution_count": null,
   "metadata": {
    "collapsed": false
   },
   "outputs": [],
   "source": []
  },
  {
   "cell_type": "markdown",
   "metadata": {},
   "source": [
    "### Dodawanie kolumn"
   ]
  },
  {
   "cell_type": "code",
   "execution_count": null,
   "metadata": {
    "collapsed": false
   },
   "outputs": [],
   "source": [
    "berri_bikes = bike_data[['Berri 1']].copy()\n",
    "bike_data['Berri 1'].plot()"
   ]
  },
  {
   "cell_type": "markdown",
   "metadata": {},
   "source": [
    "Dodamy teraz nową kolumnę \"weekday\", która będzie przechowywać informację o dniu tygodnia.\n",
    "Data badania jest przechowywana w indeksie:"
   ]
  },
  {
   "cell_type": "markdown",
   "metadata": {},
   "source": [
    "berri_bikes.index"
   ]
  },
  {
   "cell_type": "markdown",
   "metadata": {},
   "source": [
    "Podczas wczytywania arkusza, pandas przetworzył daty do obiektu Date. Stąd możemy w prosty sposób otrzymać dzień tygodnia badania:"
   ]
  },
  {
   "cell_type": "code",
   "execution_count": null,
   "metadata": {
    "collapsed": false
   },
   "outputs": [],
   "source": [
    "berri_bikes.index.weekday"
   ]
  },
  {
   "cell_type": "markdown",
   "metadata": {},
   "source": [
    "```DataFrame``` zachowuje się jak słowniki, więc dodanie nowej kolumny wygląda podobnie:"
   ]
  },
  {
   "cell_type": "code",
   "execution_count": null,
   "metadata": {
    "collapsed": false
   },
   "outputs": [],
   "source": [
    "berri_bikes['weekday'] = berri_bikes.index.weekday\n",
    "berri_bikes[:5]"
   ]
  },
  {
   "cell_type": "markdown",
   "metadata": {},
   "source": [
    "Możemy teraz uzyskać nowe informację, np. zliczyć liczbę rowerzystów per dzień dnia:"
   ]
  },
  {
   "cell_type": "code",
   "execution_count": null,
   "metadata": {
    "collapsed": false
   },
   "outputs": [],
   "source": [
    "weekday_counts = berri_bikes.groupby('weekday').aggregate(sum)\n",
    "weekday_counts"
   ]
  },
  {
   "cell_type": "markdown",
   "metadata": {},
   "source": [
    "Możemy dodać bardziej czytelny indeks:"
   ]
  },
  {
   "cell_type": "code",
   "execution_count": null,
   "metadata": {
    "collapsed": false
   },
   "outputs": [],
   "source": [
    "weekday_counts.index = ['Monday', 'Tuesday', 'Wednesday', 'Thursday', 'Friday', 'Saturday', 'Sunday']\n",
    "weekday_counts"
   ]
  },
  {
   "cell_type": "markdown",
   "metadata": {},
   "source": [
    "## Zadanie domowe"
   ]
  },
  {
   "cell_type": "markdown",
   "metadata": {},
   "source": [
    "1. Wczytaj zestaw danych z pliku \"train.csv\". Plik zawiera informacje o mieszkaniach na sprzedaż na terenie Poznania.\n",
    "2. Ilu pokojowe mieszkania są najczęstsze?\n",
    "3. Wyświetl 5 najdroższych i 5 najtańszych mieszkań, które są usytuowane na I piętrze.\n",
    "4. Dodaj kolumnę ```Borough```, która będzie zawierać informacje o dzielnicach i powstanie z kolumny ```Localization```. Rozpatrz tylko następujące dzielnice: Stare Miasto, Wilda, Jeżyce, Rataje, Piątkowo, Winogrady, Miłostowo, Dębiec. Jeżeli ogłoszenie nie zawiera się w żadnym w powyższych, ustal jego wartość na ```Inne```.\n",
    "5. Narysuj wykres słupkowy pokazujący ile jest ogłoszeń mieszkań z podziałem na dzielnice.\n",
    "6. Jaka jest średnia cena mieszkania na Wildzie? Jaka jest średnia cena mieszkania 3-pokojowego?\n",
    "7. W której dzielnicy znajduje się mieszkanie na 13-piętrze?\n",
    "8. Wyświetl wszystkie ogłoszenia mieszkań, które znajdują się na Winogradach, mają 3 pokoje i są położone na 1 piętrze.\n",
    "9. *(dodatkowe)*: Korzystając z pakietu *sklearn* zbuduj model regresji logistycznej, która będzie przewidywała cenę mieszkania na podstawie pozostałych parametrów."
   ]
  },
  {
   "cell_type": "code",
   "execution_count": null,
   "metadata": {
    "collapsed": true
   },
   "outputs": [],
   "source": []
  }
 ],
 "metadata": {
  "kernelspec": {
   "display_name": "Python 3",
   "language": "python",
   "name": "python3"
  },
  "language_info": {
   "codemirror_mode": {
    "name": "ipython",
    "version": 3
   },
   "file_extension": ".py",
   "mimetype": "text/x-python",
   "name": "python",
   "nbconvert_exporter": "python",
   "pygments_lexer": "ipython3",
   "version": "3.5.2"
  }
 },
 "nbformat": 4,
 "nbformat_minor": 0
}
