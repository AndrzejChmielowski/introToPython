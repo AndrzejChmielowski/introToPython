{
 "cells": [
  {
   "cell_type": "code",
   "execution_count": 4,
   "metadata": {
    "collapsed": false
   },
   "outputs": [],
   "source": [
    "%matplotlib inline\n",
    "import sys\n",
    "import numpy as np\n",
    "import matplotlib.pyplot as plt"
   ]
  },
  {
   "cell_type": "markdown",
   "metadata": {},
   "source": [
    "Ostatnia cześć kursu Pythona będzie dotyczyć biblioteki **pandas**, która służy do analizy danych. Zacznijmy zatem od importu. Przeważnie bibliotekę skraca się do *pd*:"
   ]
  },
  {
   "cell_type": "code",
   "execution_count": 5,
   "metadata": {
    "collapsed": true
   },
   "outputs": [],
   "source": [
    "import pandas as pd"
   ]
  },
  {
   "cell_type": "markdown",
   "metadata": {},
   "source": [
    "Pandas posiada dwie podstawowe struktury danych: szereg (Series) oraz ramka danych (DataFrame). Zaczniemy od szeregów. Szereg danych, mówiąc prościej jest to lista danych tego samego typu."
   ]
  },
  {
   "cell_type": "markdown",
   "metadata": {},
   "source": [
    "Żeby zobaczyć szeregi w akcji, stwórzmy listę losowych liczb:"
   ]
  },
  {
   "cell_type": "code",
   "execution_count": 44,
   "metadata": {
    "collapsed": false
   },
   "outputs": [
    {
     "name": "stdout",
     "output_type": "stream",
     "text": [
      "[11 13  6  9 18 10  7  8  5  2 15 16  6 18  7 12 17 12 13  7 17 15 14 11  9\n",
      " 16]\n"
     ]
    }
   ],
   "source": [
    "losowe = np.random.randint(1, 20, 26)\n",
    "print(losowe)"
   ]
  },
  {
   "cell_type": "markdown",
   "metadata": {},
   "source": [
    "A następnie stwórzmy szereg, korzystając z powyższych liczb:"
   ]
  },
  {
   "cell_type": "code",
   "execution_count": 8,
   "metadata": {
    "collapsed": false
   },
   "outputs": [
    {
     "name": "stdout",
     "output_type": "stream",
     "text": [
      "0     14\n",
      "1      6\n",
      "2     16\n",
      "3      7\n",
      "4     17\n",
      "5     13\n",
      "6      7\n",
      "7     15\n",
      "8     15\n",
      "9      2\n",
      "10    12\n",
      "11    12\n",
      "12     3\n",
      "13    15\n",
      "14     2\n",
      "15     4\n",
      "16    15\n",
      "17     1\n",
      "18    13\n",
      "19     9\n",
      "20    13\n",
      "21     4\n",
      "22    19\n",
      "23     4\n",
      "24     5\n",
      "dtype: int64\n"
     ]
    }
   ],
   "source": [
    "dane = pd.Series(losowe)\n",
    "print(dane)"
   ]
  },
  {
   "cell_type": "markdown",
   "metadata": {},
   "source": [
    "Czym różni się szereg od listy? Szereg danych posiada indeks, czyli klucz, dzięki ktoremu możemy zindetyfikować dane. Domyślnie, indeks jest ciągiem liczb zaczynających się od zera. Nie musi tak być, możemy podczas tworzenia przekazać również indeks:"
   ]
  },
  {
   "cell_type": "code",
   "execution_count": 12,
   "metadata": {
    "collapsed": false
   },
   "outputs": [
    {
     "name": "stdout",
     "output_type": "stream",
     "text": [
      "a    1\n",
      "b    2\n",
      "c    3\n",
      "d    4\n",
      "e    5\n",
      "dtype: int64\n"
     ]
    }
   ],
   "source": [
    "dane2 = pd.Series([1,2,3,4,5], index=['a', 'b', 'c', 'd', 'e'])\n",
    "print(dane2)"
   ]
  },
  {
   "cell_type": "markdown",
   "metadata": {},
   "source": [
    "Jak można domyśleć się, indeks służy nam do uzyskania dostępu do danego elementu:"
   ]
  },
  {
   "cell_type": "code",
   "execution_count": 16,
   "metadata": {
    "collapsed": false
   },
   "outputs": [
    {
     "name": "stdout",
     "output_type": "stream",
     "text": [
      "2\n"
     ]
    }
   ],
   "source": [
    "print(dane2['b'])"
   ]
  },
  {
   "cell_type": "markdown",
   "metadata": {},
   "source": [
    "Więcej o dostępnie do danych będzie w dalszej części kursu."
   ]
  },
  {
   "cell_type": "markdown",
   "metadata": {},
   "source": [
    "Żeby uzyskać rozmiar danych możemy wykorzystać znaną już funkcję **len** lub wykorzystać polę **shape**. Bardzo podobnie jak było to w przypadku obiektów z biblioteczki numpy:"
   ]
  },
  {
   "cell_type": "code",
   "execution_count": 19,
   "metadata": {
    "collapsed": false
   },
   "outputs": [
    {
     "name": "stdout",
     "output_type": "stream",
     "text": [
      "25\n",
      "(25,)\n"
     ]
    }
   ],
   "source": [
    "print(len(dane))\n",
    "print(dane.shape)"
   ]
  },
  {
   "cell_type": "markdown",
   "metadata": {},
   "source": [
    "Przeważnie zbiory danych, na których pracujemy są  duże. Stąd, próba ich wyświetlenia może okazać się karkołomna\n",
    "lub nawet niemożliwa. Czasem chcemy tylko zobaczyć pogląd. Do tego służą dwie metody: **head** i **tail**, które\n",
    "    zwrócą nam kilka pierwszych lub ostatnich wierszy z szeregu:"
   ]
  },
  {
   "cell_type": "code",
   "execution_count": 21,
   "metadata": {
    "collapsed": false
   },
   "outputs": [
    {
     "name": "stdout",
     "output_type": "stream",
     "text": [
      "0    14\n",
      "1     6\n",
      "2    16\n",
      "3     7\n",
      "4    17\n",
      "dtype: int64\n"
     ]
    }
   ],
   "source": [
    "print(dane.head())"
   ]
  },
  {
   "cell_type": "code",
   "execution_count": 22,
   "metadata": {
    "collapsed": false
   },
   "outputs": [
    {
     "name": "stdout",
     "output_type": "stream",
     "text": [
      "20    13\n",
      "21     4\n",
      "22    19\n",
      "23     4\n",
      "24     5\n",
      "dtype: int64\n"
     ]
    }
   ],
   "source": [
    "print(dane.tail())"
   ]
  },
  {
   "cell_type": "markdown",
   "metadata": {},
   "source": [
    "Szeregi są dostosowane do analizy danych. Np. udostępniają prosty sposób do uzyskania podstawowych statystyk:"
   ]
  },
  {
   "cell_type": "code",
   "execution_count": 23,
   "metadata": {
    "collapsed": false
   },
   "outputs": [
    {
     "name": "stdout",
     "output_type": "stream",
     "text": [
      "Średnia: 9.72\n",
      "Mediana: 12.0\n"
     ]
    }
   ],
   "source": [
    "print(\"Średnia:\", dane.mean())\n",
    "print(\"Mediana:\", dane.median())"
   ]
  },
  {
   "cell_type": "markdown",
   "metadata": {},
   "source": [
    "Jak i inne przydatne funkcje:"
   ]
  },
  {
   "cell_type": "code",
   "execution_count": 30,
   "metadata": {
    "collapsed": false
   },
   "outputs": [
    {
     "name": "stdout",
     "output_type": "stream",
     "text": [
      "Zbiór wartości: [14  6 16  7 17 13 15  2 12  3  4  1  9 19  5]\n",
      "Zliczanie 15    4\n",
      "13    3\n",
      "4     3\n",
      "12    2\n",
      "7     2\n",
      "2     2\n",
      "19    1\n",
      "17    1\n",
      "16    1\n",
      "14    1\n",
      "9     1\n",
      "6     1\n",
      "5     1\n",
      "3     1\n",
      "1     1\n",
      "dtype: int64\n"
     ]
    }
   ],
   "source": [
    "print(\"Zbiór wartości:\", dane.unique())\n",
    "print(\"Zliczanie\", dane.value_counts())"
   ]
  },
  {
   "cell_type": "markdown",
   "metadata": {},
   "source": [
    "Metoda ```value_counts``` zwraca nam szereg danych, który możemy wykorzystać do dalszych badań. Na przyklad, żeby wyświetlić 5 najczęściej występujących wartości, możemy napisać:"
   ]
  },
  {
   "cell_type": "code",
   "execution_count": 32,
   "metadata": {
    "collapsed": false
   },
   "outputs": [
    {
     "name": "stdout",
     "output_type": "stream",
     "text": [
      "15    4\n",
      "13    3\n",
      "4     3\n",
      "12    2\n",
      "7     2\n",
      "dtype: int64\n"
     ]
    }
   ],
   "source": [
    "print(dane.value_counts(). head())"
   ]
  },
  {
   "cell_type": "markdown",
   "metadata": {},
   "source": [
    "Żeby uzyskać wszystkie podstawowe statystyki, możmey wywołać metodę ```describe```:"
   ]
  },
  {
   "cell_type": "code",
   "execution_count": 33,
   "metadata": {
    "collapsed": false
   },
   "outputs": [
    {
     "name": "stdout",
     "output_type": "stream",
     "text": [
      "count    25.000000\n",
      "mean      9.720000\n",
      "std       5.556678\n",
      "min       1.000000\n",
      "25%       4.000000\n",
      "50%      12.000000\n",
      "75%      15.000000\n",
      "max      19.000000\n",
      "dtype: float64\n"
     ]
    }
   ],
   "source": [
    "print(dane.describe())"
   ]
  },
  {
   "cell_type": "markdown",
   "metadata": {},
   "source": [
    "A żeby wyświetlić je w postaci wykresu:"
   ]
  },
  {
   "cell_type": "code",
   "execution_count": 36,
   "metadata": {
    "collapsed": false
   },
   "outputs": [
    {
     "data": {
      "text/plain": [
       "<matplotlib.axes._subplots.AxesSubplot at 0x7f28547b2f98>"
      ]
     },
     "execution_count": 36,
     "metadata": {},
     "output_type": "execute_result"
    },
    {
     "data": {
      "image/png": "[encoded data removed]",
      "text/plain": [
       "<matplotlib.figure.Figure at 0x7f285474be10>"
      ]
     },
     "metadata": {},
     "output_type": "display_data"
    }
   ],
   "source": [
    "dane.hist()"
   ]
  },
  {
   "cell_type": "markdown",
   "metadata": {},
   "source": [
    "(Dane zostały wygenerowane w sposób losowy, stąd ich analiza jak na razie jest pozbawiona sensu.)"
   ]
  },
  {
   "cell_type": "markdown",
   "metadata": {},
   "source": [
    "## Indeksowanie, czyli dostęp do danych"
   ]
  },
  {
   "cell_type": "markdown",
   "metadata": {},
   "source": [
    "Stwórzmy szereg danych, którego indeks będzie składać się z wielkich liter alfabetu:"
   ]
  },
  {
   "cell_type": "code",
   "execution_count": 46,
   "metadata": {
    "collapsed": false
   },
   "outputs": [
    {
     "name": "stdout",
     "output_type": "stream",
     "text": [
      "A    11\n",
      "B    13\n",
      "C     6\n",
      "D     9\n",
      "E    18\n",
      "dtype: int64\n"
     ]
    }
   ],
   "source": [
    "import string\n",
    "litery = list(string.ascii_uppercase)\n",
    "dane3 = pd.Series(losowe, index=litery)\n",
    "print(dane3.head())"
   ]
  },
  {
   "cell_type": "markdown",
   "metadata": {},
   "source": [
    "Najprostszym sposobem dostępu do danych jest przez indeks:"
   ]
  },
  {
   "cell_type": "code",
   "execution_count": 52,
   "metadata": {
    "collapsed": false
   },
   "outputs": [
    {
     "name": "stdout",
     "output_type": "stream",
     "text": [
      "18\n"
     ]
    }
   ],
   "source": [
    "print(dane3['E'])"
   ]
  },
  {
   "cell_type": "markdown",
   "metadata": {},
   "source": [
    "Szeregi udostępniają wiele więcej. Jeżeli chcemy zobaczyć przykłady o kluczach *P*, *Y*, *T*, to możemy podać listę indeksów jako argument:"
   ]
  },
  {
   "cell_type": "code",
   "execution_count": 53,
   "metadata": {
    "collapsed": false
   },
   "outputs": [
    {
     "name": "stdout",
     "output_type": "stream",
     "text": [
      "P    12\n",
      "Y     9\n",
      "T     7\n",
      "dtype: int64\n"
     ]
    }
   ],
   "source": [
    "print(dane3[['P', 'Y', 'T']])"
   ]
  },
  {
   "cell_type": "markdown",
   "metadata": {},
   "source": [
    "Możemy również podać zakres danych:"
   ]
  },
  {
   "cell_type": "code",
   "execution_count": 57,
   "metadata": {
    "collapsed": false
   },
   "outputs": [
    {
     "name": "stdout",
     "output_type": "stream",
     "text": [
      "B    13\n",
      "C     6\n",
      "D     9\n",
      "E    18\n",
      "dtype: int64\n"
     ]
    }
   ],
   "source": [
    "print(dane3['B':'E'])"
   ]
  },
  {
   "cell_type": "markdown",
   "metadata": {},
   "source": [
    "Jeżeli zmienimy indeks szeregu, to cay czas mamy możliwość pracy na indeskach liczbowych:"
   ]
  },
  {
   "cell_type": "code",
   "execution_count": 58,
   "metadata": {
    "collapsed": false
   },
   "outputs": [
    {
     "name": "stdout",
     "output_type": "stream",
     "text": [
      "C     6\n",
      "D     9\n",
      "E    18\n",
      "dtype: int64\n"
     ]
    }
   ],
   "source": [
    "print(dane3[2:5])"
   ]
  },
  {
   "cell_type": "markdown",
   "metadata": {},
   "source": [
    "## Mapowanie"
   ]
  },
  {
   "cell_type": "markdown",
   "metadata": {},
   "source": [
    "Szeregi pozwalają zmieniać dane, które przechowują. Pojedyńcze wartości mozemy zmieniać przy pomocy odwołania się do konkretnego elementu:"
   ]
  },
  {
   "cell_type": "code",
   "execution_count": 62,
   "metadata": {
    "collapsed": false
   },
   "outputs": [
    {
     "name": "stdout",
     "output_type": "stream",
     "text": [
      "777\n"
     ]
    }
   ],
   "source": [
    "dane3[2] = 777\n",
    "print(dane3[2])"
   ]
  },
  {
   "cell_type": "markdown",
   "metadata": {},
   "source": [
    "Jeżeli chcemy zmienić cały szereg przy pomocy funkcji, możemy wykorzystać metodę ```map```:"
   ]
  },
  {
   "cell_type": "code",
   "execution_count": 64,
   "metadata": {
    "collapsed": false
   },
   "outputs": [
    {
     "name": "stdout",
     "output_type": "stream",
     "text": [
      "A         1331\n",
      "B         2197\n",
      "C    469097433\n",
      "D          729\n",
      "E         5832\n",
      "F         1000\n",
      "G          343\n",
      "H          512\n",
      "I          125\n",
      "J            8\n",
      "K         3375\n",
      "L         4096\n",
      "M          216\n",
      "N         5832\n",
      "O          343\n",
      "P         1728\n",
      "Q         4913\n",
      "R         1728\n",
      "S         2197\n",
      "T          343\n",
      "U         4913\n",
      "V         3375\n",
      "W         2744\n",
      "X         1331\n",
      "Y          729\n",
      "Z         4096\n",
      "dtype: int64\n"
     ]
    }
   ],
   "source": [
    "def cube(x):\n",
    "    return x ** 3\n",
    "print(dane3.map(cube))"
   ]
  },
  {
   "cell_type": "markdown",
   "metadata": {},
   "source": [
    "*Uwaga:* w Pythonie istnieją funkcje lambda, które można tu wykorzystać."
   ]
  },
  {
   "cell_type": "markdown",
   "metadata": {},
   "source": [
    "## Ramki danych"
   ]
  },
  {
   "cell_type": "markdown",
   "metadata": {},
   "source": [
    "Ramka danych jest odpowiednikiem tabeli znanej z R lub sqla. Patrząc z innego punktu widzenia, jest lista szeregóœ danych, które są połącząne z sobą wspólnym indeksem. Stwórzmy ramkę danych składających się z małych i wielkich liter:"
   ]
  },
  {
   "cell_type": "code",
   "execution_count": 68,
   "metadata": {
    "collapsed": false
   },
   "outputs": [
    {
     "name": "stdout",
     "output_type": "stream",
     "text": [
      "[('a', 'A'), ('b', 'B'), ('c', 'C'), ('d', 'D'), ('e', 'E'), ('f', 'F'), ('g', 'G'), ('h', 'H'), ('i', 'I'), ('j', 'J'), ('k', 'K'), ('l', 'L'), ('m', 'M'), ('n', 'N'), ('o', 'O'), ('p', 'P'), ('q', 'Q'), ('r', 'R'), ('s', 'S'), ('t', 'T'), ('u', 'U'), ('v', 'V'), ('w', 'W'), ('x', 'X'), ('y', 'Y'), ('z', 'Z')]\n",
      "    0  1\n",
      "0   a  A\n",
      "1   b  B\n",
      "2   c  C\n",
      "3   d  D\n",
      "4   e  E\n",
      "5   f  F\n",
      "6   g  G\n",
      "7   h  H\n",
      "8   i  I\n",
      "9   j  J\n",
      "10  k  K\n",
      "11  l  L\n",
      "12  m  M\n",
      "13  n  N\n",
      "14  o  O\n",
      "15  p  P\n",
      "16  q  Q\n",
      "17  r  R\n",
      "18  s  S\n",
      "19  t  T\n",
      "20  u  U\n",
      "21  v  V\n",
      "22  w  W\n",
      "23  x  X\n",
      "24  y  Y\n",
      "25  z  Z\n"
     ]
    }
   ],
   "source": [
    "wielkie = list(string.ascii_uppercase)\n",
    "male = list(string.ascii_lowercase)\n",
    "surowe = list(zip(male, wielkie))\n",
    "print(surowe)\n",
    "\n",
    "dane = pd.DataFrame(surowe)\n",
    "print(dane)"
   ]
  },
  {
   "cell_type": "markdown",
   "metadata": {},
   "source": [
    "Jak widzimy, ramkę danych tworzymy podając listę przykładów. W powyższej ramce mamy dwie kolumny nazwane *0* i *1*. Zmieńmy te nazwy na bardziej czytelne:"
   ]
  },
  {
   "cell_type": "code",
   "execution_count": 70,
   "metadata": {
    "collapsed": false
   },
   "outputs": [
    {
     "name": "stdout",
     "output_type": "stream",
     "text": [
      "  małe wielkie\n",
      "0    a       A\n",
      "1    b       B\n",
      "2    c       C\n",
      "3    d       D\n",
      "4    e       E\n"
     ]
    }
   ],
   "source": [
    "dane.columns = [\"małe\", \"wielkie\"]\n",
    "print(dane.head())"
   ]
  },
  {
   "cell_type": "markdown",
   "metadata": {},
   "source": [
    "Obsługa ramki danych nie różni się za bardzo od obsługi szeregu, np. działaja metody head i tail, jak i inne:"
   ]
  },
  {
   "cell_type": "code",
   "execution_count": 73,
   "metadata": {
    "collapsed": false
   },
   "outputs": [
    {
     "name": "stdout",
     "output_type": "stream",
     "text": [
      "małe       z\n",
      "wielkie    Z\n",
      "dtype: object\n",
      "       małe wielkie\n",
      "count    26      26\n",
      "unique   26      26\n",
      "top       j       M\n",
      "freq      1       1\n"
     ]
    }
   ],
   "source": [
    "print(dane.max())\n",
    "print(dane.describe())"
   ]
  },
  {
   "cell_type": "markdown",
   "metadata": {},
   "source": [
    "Dodajmy trzecią kolumnę składającą się z losowych liczb:"
   ]
  },
  {
   "cell_type": "code",
   "execution_count": 75,
   "metadata": {
    "collapsed": true
   },
   "outputs": [],
   "source": [
    "dane['losowe'] = np.random.randint(1, 20, 26)"
   ]
  },
  {
   "cell_type": "markdown",
   "metadata": {},
   "source": []
  }
 ],
 "metadata": {
  "kernelspec": {
   "display_name": "Python 3",
   "language": "python",
   "name": "python3"
  },
  "language_info": {
   "codemirror_mode": {
    "name": "ipython",
    "version": 3
   },
   "file_extension": ".py",
   "mimetype": "text/x-python",
   "name": "python",
   "nbconvert_exporter": "python",
   "pygments_lexer": "ipython3",
   "version": "3.5.2"
  }
 },
 "nbformat": 4,
 "nbformat_minor": 0
}
