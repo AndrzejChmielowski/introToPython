{
 "metadata": {
  "name": "",
  "signature": "sha256:e2df1828bf367960013068f45df78a3928b775cd908c6ee903f7cc1082ff5227"
 },
 "nbformat": 3,
 "nbformat_minor": 0,
 "worksheets": [
  {
   "cells": [
    {
     "cell_type": "markdown",
     "metadata": {},
     "source": [
      "# Przetwarzanie tekstu"
     ]
    },
    {
     "cell_type": "markdown",
     "metadata": {},
     "source": [
      "Wi\u0119kszo\u015b\u0107\u00a0j\u0119zyk\u00f3w skryptowych jest dostosowana do przetwarzania i analizowania tekstu. Podobnie jest z pythonem."
     ]
    },
    {
     "cell_type": "markdown",
     "metadata": {},
     "source": [
      "## Podstawy przetwarzania tekstu"
     ]
    },
    {
     "cell_type": "markdown",
     "metadata": {},
     "source": [
      "Podstawowym zadaniem pracy z tekstem jest wyszukiwanie, czyli sprawdzenie, czy dany napis znajduje si\u0119 w innym napisie, np. czy wyraz ```kot``` znajduje si\u0119 w zdaniu ```Ala ma kota.```. W Pythonie najpro\u015bciej jest to zrobi\u0107 w nast\u0119puj\u0105cy spos\u00f3b:"
     ]
    },
    {
     "cell_type": "code",
     "collapsed": false,
     "input": [
      "if 'kot' in 'Ala ma kota.':\n",
      "    print \"TAK\"\n",
      "else:\n",
      "    print \"NIE\"\n",
      "    \n",
      "if 'pies' in 'Ala ma kota.':\n",
      "    print \"TAK\"\n",
      "else:\n",
      "    print \"NIE\""
     ],
     "language": "python",
     "metadata": {},
     "outputs": [
      {
       "output_type": "stream",
       "stream": "stdout",
       "text": [
        "TAK\n",
        "NIE\n"
       ]
      }
     ],
     "prompt_number": 3
    },
    {
     "cell_type": "markdown",
     "metadata": {},
     "source": [
      "Je\u017celi chcemy policzy\u0107 ile razy wyst\u0105pi\u0142 dany ci\u0105g znak\u00f3w w napisie, mo\u017cemyu wykorzysta\u0107\u00a0metod\u0119 ```count```:"
     ]
    },
    {
     "cell_type": "code",
     "collapsed": false,
     "input": [
      "napis = \"Ala ma kota. Ala ma psa.\"\n",
      "print napis.count(\"Ala\")"
     ],
     "language": "python",
     "metadata": {},
     "outputs": [
      {
       "output_type": "stream",
       "stream": "stdout",
       "text": [
        "2\n"
       ]
      }
     ],
     "prompt_number": 4
    },
    {
     "cell_type": "markdown",
     "metadata": {},
     "source": [
      "W wi\u0119kszo\u015bci j\u0119zyk\u00f3w europejskich istnieje podzia\u0142 na ma\u0142e i wielkie litery. Podzia\u0142 ten powoduje, \u017ce s\u0142owo 'mama' mo\u017cemy zapisa\u0107\u00a0na dwa sposoby: \"mama\" oraz \"Mama\". Je\u017celi nie interesuje nas wielko\u015b\u0107 liter, mo\u017cemy zamieni\u0107 wielkie litery na ma\u0142e:"
     ]
    },
    {
     "cell_type": "code",
     "collapsed": false,
     "input": [
      "Mama = \"Mama\"\n",
      "mama =  \"mama\"\n",
      "print Mama.lower() == mama\n",
      "print \"Ala ma kota i psa.\".lower()"
     ],
     "language": "python",
     "metadata": {},
     "outputs": [
      {
       "output_type": "stream",
       "stream": "stdout",
       "text": [
        "True\n",
        "ala ma kota i psa.\n"
       ]
      }
     ],
     "prompt_number": 6
    },
    {
     "cell_type": "markdown",
     "metadata": {},
     "source": [
      "Stringi w Pythonie mo\u017cna traktowa\u0107 jak listy znak\u00f3w. St\u0105d, aby dosta\u0107\u00a0si\u0119 do trzeciej litery, mozemy sporzysta\u0107 z ```napis[2]```, a chc\u0105c wypisa\u0107 5 pierwszych liter napis[:5]:"
     ]
    },
    {
     "cell_type": "code",
     "collapsed": false,
     "input": [
      "napisy = \"Napisy\"\n",
      "print napisy[2]\n",
      "print napisy[:5]"
     ],
     "language": "python",
     "metadata": {},
     "outputs": [
      {
       "output_type": "stream",
       "stream": "stdout",
       "text": [
        "p\n",
        "Napis\n"
       ]
      }
     ],
     "prompt_number": 7
    },
    {
     "cell_type": "markdown",
     "metadata": {},
     "source": [
      "### Dzielenie \u0142a\u0144cuch\u00f3w znakowych"
     ]
    },
    {
     "cell_type": "markdown",
     "metadata": {},
     "source": [
      "Niekiedy zdarza si\u0119, \u017ce chcemy podzieli\u0107 dany ci\u0105g znak\u00f3w, np. maj\u0105c zdanie \"Ala ma kota.\" chcieliby\u015bmy dosta\u0107\u00a0tablic\u0119 wyraz\u00f3w: [\"Ala\", \"ma\", \"kota\"]. Do tego s\u0142u\u017cy metoda ```split```, kt\u00f3ra jako argument przyjmuje separator (nie musi to by\u0107 pojedy\u0144czy znak):"
     ]
    },
    {
     "cell_type": "code",
     "collapsed": false,
     "input": [
      "print \"Ala ma kota.\".split(\" \")"
     ],
     "language": "python",
     "metadata": {},
     "outputs": [
      {
       "output_type": "stream",
       "stream": "stdout",
       "text": [
        "['Ala', 'ma', 'kota.']\n"
       ]
      }
     ],
     "prompt_number": 8
    },
    {
     "cell_type": "code",
     "collapsed": false,
     "input": [
      "print \"Ala ma kota.\".split(\"ma\")"
     ],
     "language": "python",
     "metadata": {},
     "outputs": [
      {
       "output_type": "stream",
       "stream": "stdout",
       "text": [
        "['Ala ', ' kota.']\n"
       ]
      }
     ],
     "prompt_number": 10
    },
    {
     "cell_type": "code",
     "collapsed": false,
     "input": [
      "print \"Ala ma kota.\".split(\".\")"
     ],
     "language": "python",
     "metadata": {},
     "outputs": [
      {
       "output_type": "stream",
       "stream": "stdout",
       "text": [
        "['Ala ma kota', '']\n"
       ]
      }
     ],
     "prompt_number": 12
    },
    {
     "cell_type": "markdown",
     "metadata": {},
     "source": [
      "**Zadania**"
     ]
    },
    {
     "cell_type": "markdown",
     "metadata": {},
     "source": [
      "Wi\u0119kszo\u015b\u0107\u00a0zada\u0144 b\u0119dzie wykorzystywa\u0107 zbi\u00f3r danych ```train.csv```, znany z poprzednich zaj\u0119\u0107. Aby odczyta\u0107 plik linia  po linii mo\u017cna skorzysta\u0107\u00a0z nast\u0119puj\u0105cej konstrukcji:"
     ]
    },
    {
     "cell_type": "code",
     "collapsed": false,
     "input": [
      "with open('train.csv') as train_data:\n",
      "    for line in train_data:\n",
      "        print len(line)"
     ],
     "language": "python",
     "metadata": {},
     "outputs": []
    },
    {
     "cell_type": "markdown",
     "metadata": {},
     "source": [
      "**Zadanie 1: ** Napisz funkcj\u0119 ```is_valid_csv```, kt\u00f3ra przyjmie jako parametr scie\u017ck\u0119 do pliku i sprawdzi, czy dany plik jest poprawnym plikiem w formacie CSV, tj. \u017ce w ka\u017cdym wierszu istnieje dok\u0142adnie tyle samo p\u00f3l oddzielonych przecinkiem."
     ]
    },
    {
     "cell_type": "code",
     "collapsed": false,
     "input": [],
     "language": "python",
     "metadata": {},
     "outputs": [],
     "prompt_number": 13
    },
    {
     "cell_type": "code",
     "collapsed": false,
     "input": [
      "print is_valid_csv('train.csv') == true"
     ],
     "language": "python",
     "metadata": {},
     "outputs": []
    },
    {
     "cell_type": "markdown",
     "metadata": {},
     "source": [
      "**Zadanie 2: ** Stw\u00f3rz plik ```train_desc.txt```, kt\u00f3re powstanie z pliku ```train.csv``` poprzez wydzielenie ostatniej kolumny."
     ]
    },
    {
     "cell_type": "code",
     "collapsed": false,
     "input": [
      "with open('train_desc.txt') as train_data:\n",
      "    counter = 0\n",
      "    for line in train_data:\n",
      "        if \"Pozna\u0144\" in line:\n",
      "            counter += 1\n",
      "    print counter\n",
      "            "
     ],
     "language": "python",
     "metadata": {},
     "outputs": [
      {
       "output_type": "stream",
       "stream": "stdout",
       "text": [
        "170\n"
       ]
      }
     ],
     "prompt_number": 17
    },
    {
     "cell_type": "markdown",
     "metadata": {},
     "source": [
      "**Zadanie 3:** Wypisz w ilu liniach pojawia si\u0119 s\u0142owo ```Pozna\u0144```. A w ilu liniach wyst\u0105pi\u0142o ono wi\u0119cej ni\u017c *jeden* raz?"
     ]
    },
    {
     "cell_type": "code",
     "collapsed": false,
     "input": [],
     "language": "python",
     "metadata": {},
     "outputs": []
    },
    {
     "cell_type": "markdown",
     "metadata": {},
     "source": [
      "**Zadania 4:** Podziel ka\u017cd\u0105 lini\u0119 na s\u0142owa w pliku ```train_desc.txt``` przy pomocy spacji. Ile mamy s\u0142\u00f3w w ca\u0142ym pliku?"
     ]
    },
    {
     "cell_type": "code",
     "collapsed": false,
     "input": [],
     "language": "python",
     "metadata": {},
     "outputs": []
    },
    {
     "cell_type": "markdown",
     "metadata": {},
     "source": [
      "**Zadanie 5:** Ile z powy\u017cszych \"*s\u0142\u00f3w*\" jest napisane wielkimi literami?"
     ]
    },
    {
     "cell_type": "code",
     "collapsed": false,
     "input": [],
     "language": "python",
     "metadata": {},
     "outputs": []
    },
    {
     "cell_type": "markdown",
     "metadata": {},
     "source": [
      "**Zadanie 6:** Korzystaja\u0107 z metody ```startswith``` znajd\u017a lini\u0119 w pliku ```train_desc.txt```, kt\u00f3ra zaczyna si\u0119\u00a0od spacji."
     ]
    },
    {
     "cell_type": "code",
     "collapsed": false,
     "input": [],
     "language": "python",
     "metadata": {},
     "outputs": []
    },
    {
     "cell_type": "markdown",
     "metadata": {},
     "source": [
      "**Zadanie 7:** Zlicz ile razy ka\u017cda litera od a do z pojawia si\u0119\u00a0w korpusie. Zbudujna tych danych  odpowieni DataFrame z pakietu pandas i narysuj wykres dla 10 najcz\u0119\u015bciej wyst\u0119powanych liter."
     ]
    },
    {
     "cell_type": "code",
     "collapsed": false,
     "input": [],
     "language": "python",
     "metadata": {},
     "outputs": []
    },
    {
     "cell_type": "markdown",
     "metadata": {},
     "source": [
      "## Wyra\u017cenia regularne"
     ]
    },
    {
     "cell_type": "markdown",
     "metadata": {},
     "source": [
      "Podstawowym narz\u0119dziem przetwarzania tekstu s\u0105 wyra\u017cenia regularne, czyli j\u0119zyk, w kt\u00f3rym mo\u017cemy tworzy\u0107 og\u00f3lne wzorce. Zobaczmy nast\u0119puj\u0105cy przyk\u0142ad. Powiedzmy, \u017ce chcemy znale\u017a\u0107 daty w tek\u015bcie. Jednym z format\u00f3w wygl\u0105da nast\u0119puj\u0105co: dzie\u0144-miesi\u0105ca.miesi\u0105c.rok, np. 25.06.2016 r. W tym formacie mamy trzy liczby oddzielone od siebie kropkami. Mo\u017cemy zapisa\u0107 to nast\u0119puj\u0105co:"
     ]
    },
    {
     "cell_type": "code",
     "collapsed": false,
     "input": [
      "import re\n",
      "\n",
      "data_regex = re.compile(\"\\d?\\d\\.\\d?\\d.\\d\\d\\d\\d\")\n",
      "\n",
      "print data_regex.search(\"Dzi\u015b jest 25.06.2016\").group()"
     ],
     "language": "python",
     "metadata": {},
     "outputs": [
      {
       "output_type": "stream",
       "stream": "stdout",
       "text": [
        "25.06.2016\n"
       ]
      }
     ],
     "prompt_number": 20
    },
    {
     "cell_type": "markdown",
     "metadata": {},
     "source": [
      "Mamy tu kilka element\u00f3w:\n",
      " * \\d - oznacza dowoln\u0105 cyfr\u0119,\n",
      " * ? - oznacza, \u017ce poprzedzaj\u0105cy go element nie musi si\u0119\u00a0pojawi\u0107\n",
      " * \\. - zwyk\u0142a kropka oznacza dowolny znak, st\u0105d \u017ceby j\u0105 u\u017cy\u0107 musimy poprzedzi\u0107 ja \\"
     ]
    },
    {
     "cell_type": "markdown",
     "metadata": {},
     "source": [
      "W pythonie jest pakiet ```re```, kt\u00f3ry s\u0142u\u017cy do budowania wyra\u017ce\u0144 regularnych. Najpierw musimy skompilowa\u0107 wyra\u017cenie regularne przy pomocy funkcji ```compile```, kt\u00f3ra jako argument przyjmuje wyra\u017cenie regularne. \u017beby sprawdzi\u0107, czy w danych tek\u015bcie istnieje tekst pasuj\u0105cy do wzorca, nale\u017cy u\u017cy\u0107 metody ```search```, kt\u00f3ra zwraca ```None```, je\u017celi nie znajdzie wzorca lub obiekt, kt\u00f3ry posiada metod\u0119 ```group```, kt\u00f3ra zwraca przypasowany fragment kodu."
     ]
    },
    {
     "cell_type": "markdown",
     "metadata": {},
     "source": [
      "**Zadanie 8:** Znajdz wszystkie daty, kt\u00f3re s\u0105\u00a0zawarte w ```train_desc.txt```."
     ]
    },
    {
     "cell_type": "code",
     "collapsed": false,
     "input": [],
     "language": "python",
     "metadata": {},
     "outputs": []
    },
    {
     "cell_type": "markdown",
     "metadata": {},
     "source": [
      "Inne podstawowe elementy wyra\u017ce\u0144 regularnych:\n",
      " * [] - dowolny znak, kt\u00f3ry znajduje si\u0119 pomi\u0119dzy [ i ], np. [abc] oznacza a lub b lub c,\n",
      " * \\* - dowolna liczba ( w tym zero) powt\u00f3rze\u0144 wyra\u017cenia znajduj\u0105cego sie\u00a0przed *, np. 3* oznacza dowoln\u0105 liczb\u0119 tr\u00f3jek: 3, 33, 33333333.\n",
      " * ( )  - nawiasy grupuj\u0105ce.\n",
      " * | - oznacza lub. Np. (ab|cd) oznacza ab lub cd.\n",
      " "
     ]
    },
    {
     "cell_type": "markdown",
     "metadata": {},
     "source": [
      "Nieocenion\u0105\u00a0pomoc\u0105 mo\u017ce by\u0107 dokumentacja pakietu ```re```: https://docs.python.org/2/library/re.html"
     ]
    },
    {
     "cell_type": "markdown",
     "metadata": {},
     "source": [
      "**Zadanie 9:** W opisach mieszka\u0144 bardzo cz\u0119sto podaje sie\u00a0wielko\u015b\u0107 poszczeg\u00f3lnych pokoi:np. 23 34 m2 oznacza 23,34 metry kwadratowe. Spr\u00f3buj znale\u017a\u0107\u00a0wyra\u017cenie regularne, kt\u00f3re znajdzie wyra\u017cenia tego typu."
     ]
    },
    {
     "cell_type": "code",
     "collapsed": false,
     "input": [],
     "language": "python",
     "metadata": {},
     "outputs": []
    },
    {
     "cell_type": "markdown",
     "metadata": {},
     "source": [
      "**Zadanie 10:** Spr\u00f3buj zbudowa\u0107\u00a0wyra\u017cenie regularne, kt\u00f3re znajdzie w tek\u015bcie ceny mieszka\u0144. *Podpowied\u017a*: ceny ko\u0144cz\u0105\u00a0si\u0119 skr\u00f3tem z\u0142. lub Z\u0141."
     ]
    },
    {
     "cell_type": "code",
     "collapsed": false,
     "input": [],
     "language": "python",
     "metadata": {},
     "outputs": []
    },
    {
     "cell_type": "markdown",
     "metadata": {},
     "source": [
      "## Zadania og\u00f3lne"
     ]
    },
    {
     "cell_type": "markdown",
     "metadata": {},
     "source": [
      "**Zadanie 11:** Napisz funkcj\u0119 `stem(string)`, kt\u00f3ra dla \u0142a\u0144cucha `string` o\n",
      "postaci `przedrostek-przyrostek` zwraca \u0142a\u0144cuch `przyrostek`. Np.\n",
      "wynikiem `stem('dog-s')` jest `'dog'`. Dla u\u0142atwienia zak\u0142adamy, \u017ce\n",
      "uzwgl\u0119dniamy tylko pierwszy znak `'-'`, je\u015bli wyst\u0119puje ich\n",
      "wi\u0119cej.\n"
     ]
    },
    {
     "cell_type": "code",
     "collapsed": false,
     "input": [],
     "language": "python",
     "metadata": {},
     "outputs": []
    },
    {
     "cell_type": "code",
     "collapsed": false,
     "input": [
      "print stem(\"dog-s\") == \"dog\"\n",
      "print stem(\"no hyphen heeere\") == \"no hyphen heeere\""
     ],
     "language": "python",
     "metadata": {},
     "outputs": []
    },
    {
     "cell_type": "markdown",
     "metadata": {},
     "source": [
      "**Zadania 12:** Napisz funkcj\u0119 `last_ten(n)`, kt\u00f3ra zwraca ostatnie dziesi\u0119\u0107 cyfr\n",
      "liczby $1^1 + 2^2 + 3^3 + \\ldots + n^n$. Wynikiem dla `last_ten(1000)`\n",
      "jest 9110846700.\n"
     ]
    },
    {
     "cell_type": "code",
     "collapsed": false,
     "input": [],
     "language": "python",
     "metadata": {},
     "outputs": []
    },
    {
     "cell_type": "code",
     "collapsed": false,
     "input": [
      "print last_ten(1000) == 9110846700"
     ],
     "language": "python",
     "metadata": {},
     "outputs": []
    },
    {
     "cell_type": "markdown",
     "metadata": {},
     "source": [
      "**Zadanie 13:** Napisz funkcj\u0119 `strip_html(content)`, kt\u00f3ra usuwa z \u0142a\u0144cucha\n",
      "znakowego `content` wszystkie znaczniki HTML i nast\u0119pnie zwraca wynik\n",
      "tej operacji."
     ]
    },
    {
     "cell_type": "code",
     "collapsed": false,
     "input": [],
     "language": "python",
     "metadata": {},
     "outputs": []
    },
    {
     "cell_type": "code",
     "collapsed": false,
     "input": [
      "print strip_html('<p>Ala ma <b>kota</b> i <i>psa</i>.</p>') == 'Ala ma kota i psa.'"
     ],
     "language": "python",
     "metadata": {},
     "outputs": []
    },
    {
     "cell_type": "markdown",
     "metadata": {},
     "source": [
      "**Zadanie 14:** Napisz funkcj\u0119 `bigrams(string)`, kt\u00f3ra zwraca list\u0119 kolejnych\n",
      "bigram\u00f3w (w postaci par wyraz\u00f3w) z \u0142a\u0144cucha znakowego `string`.\n",
      "Nale\u017cy uwzgl\u0119dni\u0107 przypadek, gdy `string` sk\u0142ada si\u0119 z mniej ni\u017c\n",
      "dw\u00f3ch wyraz\u00f3w.\n"
     ]
    },
    {
     "cell_type": "code",
     "collapsed": false,
     "input": [],
     "language": "python",
     "metadata": {},
     "outputs": []
    },
    {
     "cell_type": "code",
     "collapsed": false,
     "input": [],
     "language": "python",
     "metadata": {},
     "outputs": []
    }
   ],
   "metadata": {}
  }
 ]
}