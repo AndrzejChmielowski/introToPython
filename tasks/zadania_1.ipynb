{
 "metadata": {
  "name": "",
  "signature": "sha256:226877b8476d280bdf8bb8337420fce1d527aaa753deafcabd489076ec92f20a"
 },
 "nbformat": 3,
 "nbformat_minor": 0,
 "worksheets": [
  {
   "cells": [
    {
     "cell_type": "markdown",
     "metadata": {},
     "source": [
      "## Zadania na \u0107wiczenia"
     ]
    },
    {
     "cell_type": "markdown",
     "metadata": {},
     "source": [
      "**Zad 1.** Otw\u00f3rz notebook, kt\u00f3ry by\u0142 pokazany na zaj\u0119ciach. Zobacz, czy wszystko zrozumia\u0142e\u015b. Spr\u00f3buj pozmnienia\u0107 zawarto\u015bci kom\u00f3rek.\n"
     ]
    },
    {
     "cell_type": "markdown",
     "metadata": {},
     "source": [
      "**Zad 2.** Napisz funkcj\u0119 even_elements zwracaj\u0105c\u0105 list\u0119, kt\u00f3ra zawiera tylko elementy z list o parzystych indeksach."
     ]
    },
    {
     "cell_type": "code",
     "collapsed": false,
     "input": [],
     "language": "python",
     "metadata": {},
     "outputs": []
    },
    {
     "cell_type": "code",
     "collapsed": false,
     "input": [
      "print(even_elements([1, 2, 3, 4, 5, 6]) == [1, 3, 5])\n",
      "print(even_elements([]) == [])\n",
      "print(even_elements([41]) == [41])"
     ],
     "language": "python",
     "metadata": {},
     "outputs": []
    },
    {
     "cell_type": "markdown",
     "metadata": {},
     "source": [
      "**Zad 3.** Napisz funkcj\u0119 days_in_year zwracaj\u0105c\u0105 liczb\u0119 dni w roku (365 albo 366)."
     ]
    },
    {
     "cell_type": "code",
     "collapsed": false,
     "input": [],
     "language": "python",
     "metadata": {},
     "outputs": []
    },
    {
     "cell_type": "code",
     "collapsed": false,
     "input": [
      "print(days_in_year(2015) == 365)\n",
      "print(days_in_year(2012) == 366)\n",
      "print(days_in_year(1900) == 365)\n",
      "print(days_in_year(2400) == 366)\n",
      "print(days_in_year(1977) == 365)"
     ],
     "language": "python",
     "metadata": {},
     "outputs": []
    },
    {
     "cell_type": "markdown",
     "metadata": {},
     "source": [
      "**Zad 4.** Napisz funkcje oov(text, vocab), kt\u00f3ra zwraca list\u0119 wyraz\u00f3w (bez duplikat\u00f3w), kt\u00f3re wyst\u0119puj\u0105 w tek\u015bcie text i nie wyst\u0119puj\u0105 w li\u015bcie znanych wyraz\u00f3w vocab. Argumenty funkcji text i vocab to odpowiednio \u0142a\u0144cuch znakowy i lista \u0142a\u0144uch\u00f3w znakowych. Wszystkie wyrazy nale\u017cy zmieni\u0107 na ma\u0142e litery. (OOV = out of vocabulary) (W pythonie istnieje struktura danych jak set, kt\u00f3ra przechowuje elementy bez powt\u00f3rze\u0144.)"
     ]
    },
    {
     "cell_type": "code",
     "collapsed": false,
     "input": [],
     "language": "python",
     "metadata": {},
     "outputs": []
    },
    {
     "cell_type": "code",
     "collapsed": false,
     "input": [
      "text   = \"This is a string , which I will use for string testing\"\n",
      "vocab  = [',', 'this', 'is', 'a', 'which', 'for', 'will', 'I']\n",
      "oo_voc = ['string', 'testing', 'use']\n",
      "print(set(oov(text, vocab)) == set(oo_voc))"
     ],
     "language": "python",
     "metadata": {},
     "outputs": []
    },
    {
     "cell_type": "code",
     "collapsed": false,
     "input": [],
     "language": "python",
     "metadata": {},
     "outputs": []
    },
    {
     "cell_type": "markdown",
     "metadata": {},
     "source": [
      "**Zad 5.** Napisz funkcj\u0119 sum_from_one_to_n zwracaj\u0105c\u0105 sume liczb od 1 do n. Je\u015bli podany argument jest mniejszy od 1 powinna by\u0107 zwracana warto\u015b\u0107 0."
     ]
    },
    {
     "cell_type": "code",
     "collapsed": false,
     "input": [],
     "language": "python",
     "metadata": {},
     "outputs": []
    },
    {
     "cell_type": "code",
     "collapsed": false,
     "input": [
      "print(sum_from_one_to_n(999) == 499500)\n",
      "print(sum_from_one_to_n(-100) == 0)"
     ],
     "language": "python",
     "metadata": {},
     "outputs": []
    },
    {
     "cell_type": "markdown",
     "metadata": {},
     "source": [
      "**Zad 6.** Napisz funkcj\u0119 euclidean_distance obliczaj\u0105c\u0105 odleg\u0142o\u015b\u0107 mi\u0119dzy dwoma punktami przestrzeni tr\u00f3jwymiarowej. Punkty s\u0105 dane jako trzyelementowe krotki liczb zmiennoprzecinkowych."
     ]
    },
    {
     "cell_type": "code",
     "collapsed": false,
     "input": [],
     "language": "python",
     "metadata": {},
     "outputs": []
    },
    {
     "cell_type": "code",
     "collapsed": false,
     "input": [
      "print(euclidean_distance((2.3, 4.3, -7.5), (2.3, 8.5, -7.5)) == 4.2)"
     ],
     "language": "python",
     "metadata": {},
     "outputs": []
    },
    {
     "cell_type": "markdown",
     "metadata": {},
     "source": [
      "**Zad 7.** Napisz funkcj\u0119 big_no zwracaj\u0105cej tzw. \"Big 'NO!'\" (zob. http://tvtropes.org/pmwiki/pmwiki.php/Main/BigNo) dla zadanej liczby tj. napis typu \"NOOOOOOOOOOOOO!\", gdzie liczba 'O' ma by\u0107 r\u00f3wna podanemu argumentem, przy czym je\u015bli argument jest mniejszy ni\u017c 5, ma by\u0107 zwracany napis \"It's not a Big 'No!'\"."
     ]
    },
    {
     "cell_type": "code",
     "collapsed": false,
     "input": [],
     "language": "python",
     "metadata": {},
     "outputs": []
    },
    {
     "cell_type": "code",
     "collapsed": false,
     "input": [
      "print(big_no(5) == \"NOOOOO!\")\n",
      "print(big_no(6) == \"NOOOOOO!\")\n",
      "print(big_no(2) == \"It's not a Big 'No!'\")"
     ],
     "language": "python",
     "metadata": {},
     "outputs": []
    },
    {
     "cell_type": "markdown",
     "metadata": {},
     "source": [
      "**Zad. 8** Napisz funkcj\u0119 char_sum, kt\u00f3ra dla zadanego \u0142a\u0144cucha zwraca sum\u0119 kod\u00f3w ASCII znak\u00f3w.\n"
     ]
    },
    {
     "cell_type": "code",
     "collapsed": false,
     "input": [],
     "language": "python",
     "metadata": {},
     "outputs": []
    },
    {
     "cell_type": "code",
     "collapsed": false,
     "input": [
      "print(char_sum(\"this is a string\") == 1516)\n",
      "print(char_sum(\"this is another string\") == 2172)"
     ],
     "language": "python",
     "metadata": {},
     "outputs": []
    },
    {
     "cell_type": "markdown",
     "metadata": {},
     "source": [
      "**Zad. 9** Napisz funkcj\u0119 sum_div35(n), kt\u00f3ra zwraca sum\u0119 wszystkich liczb podzielnych przez 3 lub 5 mniejszych ni\u017c n."
     ]
    },
    {
     "cell_type": "code",
     "collapsed": false,
     "input": [],
     "language": "python",
     "metadata": {},
     "outputs": []
    },
    {
     "cell_type": "code",
     "collapsed": false,
     "input": [
      "print(sum_div35(10) == 23)\n",
      "print(sum_div35(100) == 2318)\n",
      "print(sum_div35(3845) == 3446403)"
     ],
     "language": "python",
     "metadata": {},
     "outputs": []
    },
    {
     "cell_type": "markdown",
     "metadata": {},
     "source": [
      "**Zad. 10** Napisz funkcj\u0119 leet_speak, kt\u00f3ra podmienia w podanym napisie niekt\u00f3re litery na podobnie wygl\u0105daj\u0105ce cyfry: 'e' na '3', 'l' na '1', 'o' na '0', 't' na '7'. Np. leet('leet') powinno zwr\u00f3ci\u0107 '1337'."
     ]
    },
    {
     "cell_type": "code",
     "collapsed": false,
     "input": [],
     "language": "python",
     "metadata": {},
     "outputs": []
    },
    {
     "cell_type": "code",
     "collapsed": false,
     "input": [
      "print(leet_speak('leet') == '1337')\n",
      "print(leet_speak('do not want') == 'd0 n07 wan7')"
     ],
     "language": "python",
     "metadata": {},
     "outputs": []
    },
    {
     "cell_type": "markdown",
     "metadata": {},
     "source": [
      "**Zad. 11** Napisz funkcj\u0119 pokemon_speak, kt\u00f3ra zamienia w podanym napisie co drug\u0105 liter\u0119 na wielk\u0105. Np. pokemon_speak('pokemon') powinno zwr\u00f3ci\u0107 'PoKeMoN'."
     ]
    },
    {
     "cell_type": "code",
     "collapsed": false,
     "input": [],
     "language": "python",
     "metadata": {},
     "outputs": []
    },
    {
     "cell_type": "code",
     "collapsed": false,
     "input": [
      "print(pokemon_speak('pokemon') == 'PoKeMoN')\n",
      "print((pokemon_speak('do not want') == 'Do nOt wAnT'))\n",
      "print(pokemon_speak('POKEMON') == 'POKEMON')"
     ],
     "language": "python",
     "metadata": {},
     "outputs": []
    },
    {
     "cell_type": "markdown",
     "metadata": {},
     "source": [
      "**Zad. 12** Napisz funkcj\u0119 common_chars(string1, string2), kt\u00f3ra zwraca alfabetycznie uporz\u0105dkowan\u0105 list\u0119 wsp\u00f3lnych znak\u00f3w z la\u0144cuch\u00f3w string1 i string2.\n"
     ]
    },
    {
     "cell_type": "code",
     "collapsed": false,
     "input": [],
     "language": "python",
     "metadata": {},
     "outputs": []
    },
    {
     "cell_type": "code",
     "collapsed": false,
     "input": [
      "print(common_chars(\"this is a string\", \"Ala ma kota\"), [' ', 'a', 't'])"
     ],
     "language": "python",
     "metadata": {},
     "outputs": []
    }
   ],
   "metadata": {}
  }
 ]
}