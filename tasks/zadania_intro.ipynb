{
 "cells": [
  {
   "cell_type": "markdown",
   "metadata": {},
   "source": [
    "## Zadania na ćwiczenia"
   ]
  },
  {
   "cell_type": "markdown",
   "metadata": {},
   "source": [
    "**Zad 1.** Otwórz notebook, który był pokazany na zajęciach. Zobacz, czy wszystko zrozumiałeś. Spróbuj pozmnieniać zawartości komórek."
   ]
  },
  {
   "cell_type": "markdown",
   "metadata": {},
   "source": [
    "**Zad 2.** Napisz funkcję even_elements zwracającą listę, która zawiera tylko elementy z list o parzystych indeksach. "
   ]
  },
  {
   "cell_type": "code",
   "execution_count": null,
   "metadata": {
    "collapsed": true
   },
   "outputs": [],
   "source": []
  },
  {
   "cell_type": "code",
   "execution_count": null,
   "metadata": {
    "collapsed": false
   },
   "outputs": [],
   "source": [
    "print(even_elements([1, 2, 3, 4, 5, 6]) == [1, 3, 5])\n",
    "print(even_elements([]) == [])\n",
    "print(even_elements([41]) == [41])"
   ]
  },
  {
   "cell_type": "markdown",
   "metadata": {},
   "source": [
    "**Zad 3.** Napisz funkcję days_in_year zwracającą liczbę dni w roku (365 albo 366). "
   ]
  },
  {
   "cell_type": "code",
   "execution_count": null,
   "metadata": {
    "collapsed": true
   },
   "outputs": [],
   "source": []
  },
  {
   "cell_type": "code",
   "execution_count": null,
   "metadata": {
    "collapsed": false
   },
   "outputs": [],
   "source": [
    "print(days_in_year(2015) == 365)\n",
    "print(days_in_year(2012) == 366)\n",
    "print(days_in_year(1900) == 365)\n",
    "print(days_in_year(2400) == 366)\n",
    "print(days_in_year(1977) == 365)"
   ]
  },
  {
   "cell_type": "markdown",
   "metadata": {},
   "source": [
    "**Zad 4.** Napisz funkcje oov(text, vocab), która zwraca listę wyrazów (bez duplikatów), które występują w tekście text i nie występują w liście znanych wyrazów vocab. Argumenty funkcji text i vocab to odpowiednio łańcuch znakowy i lista łańuchów znakowych. Wszystkie wyrazy należy zmienić na małe litery. (OOV = out of vocabulary) (W  pythonie istnieje struktura danych jak *set*, która przechowuje elementy bez powtórzeń.)"
   ]
  },
  {
   "cell_type": "code",
   "execution_count": null,
   "metadata": {
    "collapsed": true
   },
   "outputs": [],
   "source": []
  },
  {
   "cell_type": "code",
   "execution_count": null,
   "metadata": {
    "collapsed": false
   },
   "outputs": [],
   "source": [
    "text   = \"This is a string , which I will use for string testing\"\n",
    "vocab  = [',', 'this', 'is', 'a', 'which', 'for', 'will', 'I']\n",
    "oo_voc = ['string', 'testing', 'use']\n",
    "print(set(oov(text, vocab)) == set(oo_voc))"
   ]
  },
  {
   "cell_type": "markdown",
   "metadata": {},
   "source": [
    "**Zad 5.** Napisz funkcję `sum_from_one_to_n` zwracającą sume liczb od 1 do `n`. Jeśli podany argument jest mniejszy od 1 powinna być zwracana wartość 0."
   ]
  },
  {
   "cell_type": "code",
   "execution_count": null,
   "metadata": {
    "collapsed": true
   },
   "outputs": [],
   "source": []
  },
  {
   "cell_type": "code",
   "execution_count": null,
   "metadata": {
    "collapsed": false
   },
   "outputs": [],
   "source": [
    "print(sum_from_one_to_n(999) == 499500)\n",
    "print(sum_from_one_to_n(-100) == 0)"
   ]
  },
  {
   "cell_type": "markdown",
   "metadata": {},
   "source": [
    "**Zad 6.** Napisz funkcję `euclidean_distance` obliczającą odległość między dwoma\n",
    "punktami przestrzeni trójwymiarowej. Punkty są dane jako\n",
    "trzyelementowe krotki liczb zmiennoprzecinkowych."
   ]
  },
  {
   "cell_type": "code",
   "execution_count": null,
   "metadata": {
    "collapsed": true
   },
   "outputs": [],
   "source": []
  },
  {
   "cell_type": "code",
   "execution_count": null,
   "metadata": {
    "collapsed": false
   },
   "outputs": [],
   "source": [
    "print(euclidean_distance((2.3, 4.3, -7.5), (2.3, 8.5, -7.5)) == 4.2)"
   ]
  },
  {
   "cell_type": "markdown",
   "metadata": {},
   "source": [
    "**Zad 7.** Napisz funkcję `big_no` zwracającej tzw. \"Big 'NO!'\" (zob.\n",
    "http://tvtropes.org/pmwiki/pmwiki.php/Main/BigNo) dla zadanej liczby\n",
    "tj. napis typu \"NOOOOOOOOOOOOO!\", gdzie liczba 'O' ma być równa\n",
    "podanemu argumentem, przy czym jeśli argument jest mniejszy niż 5, ma\n",
    "być zwracany napis \"It's not a Big 'No!'\".\n"
   ]
  },
  {
   "cell_type": "code",
   "execution_count": null,
   "metadata": {
    "collapsed": false
   },
   "outputs": [],
   "source": []
  },
  {
   "cell_type": "code",
   "execution_count": null,
   "metadata": {
    "collapsed": false
   },
   "outputs": [],
   "source": [
    "print(big_no(5) == \"NOOOOO!\")\n",
    "print(big_no(6) == \"NOOOOOO!\")\n",
    "print(big_no(2) == \"It's not a Big 'No!'\")"
   ]
  },
  {
   "cell_type": "markdown",
   "metadata": {},
   "source": [
    "**Zad. 8** Napisz funkcję `char_sum`, która dla zadanego łańcucha\n",
    "zwraca sumę kodów ASCII znaków."
   ]
  },
  {
   "cell_type": "code",
   "execution_count": null,
   "metadata": {
    "collapsed": true
   },
   "outputs": [],
   "source": []
  },
  {
   "cell_type": "code",
   "execution_count": null,
   "metadata": {
    "collapsed": false
   },
   "outputs": [],
   "source": [
    "print(char_sum(\"this is a string\") == 1516)\n",
    "print(char_sum(\"this is another string\") == 2172)"
   ]
  },
  {
   "cell_type": "markdown",
   "metadata": {},
   "source": [
    "**Zad. 9** Napisz funkcję `sum_div35(n)`, która zwraca sumę wszystkich\n",
    "liczb podzielnych przez 3 lub 5 mniejszych niż `n`."
   ]
  },
  {
   "cell_type": "code",
   "execution_count": null,
   "metadata": {
    "collapsed": true
   },
   "outputs": [],
   "source": []
  },
  {
   "cell_type": "code",
   "execution_count": null,
   "metadata": {
    "collapsed": true
   },
   "outputs": [],
   "source": [
    "print(sum_div35(10) == 23)\n",
    "print(sum_div35(100) == 2318)\n",
    "print(sum_div35(3845) == 3446403)"
   ]
  },
  {
   "cell_type": "markdown",
   "metadata": {},
   "source": [
    "**Zad. 10** Napisz funkcję `leet_speak`, która podmienia w podanym napisie\n",
    "niektóre litery na podobnie wyglądające cyfry: 'e' na '3', 'l' na '1',\n",
    "'o' na '0', 't' na '7'. Np. `leet('leet')` powinno zwrócić '1337'."
   ]
  },
  {
   "cell_type": "code",
   "execution_count": null,
   "metadata": {
    "collapsed": true
   },
   "outputs": [],
   "source": []
  },
  {
   "cell_type": "code",
   "execution_count": null,
   "metadata": {
    "collapsed": true
   },
   "outputs": [],
   "source": [
    "print(leet_speak('leet') == '1337')\n",
    "print(leet_speak('do not want') == 'd0 n07 wan7')"
   ]
  },
  {
   "cell_type": "markdown",
   "metadata": {},
   "source": [
    "**Zad. 11 ** Napisz funkcję `pokemon_speak`, która zamienia w podanym napisie co\n",
    "drugą literę na wielką. Np. `pokemon_speak('pokemon')` powinno zwrócić\n",
    "'PoKeMoN'."
   ]
  },
  {
   "cell_type": "code",
   "execution_count": null,
   "metadata": {
    "collapsed": true
   },
   "outputs": [],
   "source": []
  },
  {
   "cell_type": "code",
   "execution_count": null,
   "metadata": {
    "collapsed": true
   },
   "outputs": [],
   "source": [
    "print(pokemon_speak('pokemon') == 'PoKeMoN')\n",
    "print((pokemon_speak('do not want') == 'Do nOt wAnT'))\n",
    "print(pokemon_speak('POKEMON') == 'POKEMON')"
   ]
  },
  {
   "cell_type": "markdown",
   "metadata": {},
   "source": [
    "**Zad. 12** Napisz funkcję `common_chars(string1, string2)`, która zwraca\n",
    "alfabetycznie uporządkowaną listę wspólnych znaków z lańcuchów\n",
    "`string1` i `string2`."
   ]
  },
  {
   "cell_type": "code",
   "execution_count": null,
   "metadata": {
    "collapsed": true
   },
   "outputs": [],
   "source": []
  },
  {
   "cell_type": "code",
   "execution_count": null,
   "metadata": {
    "collapsed": true
   },
   "outputs": [],
   "source": [
    "print(common_chars(\"this is a string\", \"Ala ma kota\"), [' ', 'a', 't'])"
   ]
  }
 ],
 "metadata": {
  "kernelspec": {
   "display_name": "Python 3",
   "language": "python",
   "name": "python3"
  },
  "language_info": {
   "codemirror_mode": {
    "name": "ipython",
    "version": 3
   },
   "file_extension": ".py",
   "mimetype": "text/x-python",
   "name": "python",
   "nbconvert_exporter": "python",
   "pygments_lexer": "ipython3",
   "version": "3.5.1+"
  }
 },
 "nbformat": 4,
 "nbformat_minor": 0
}
