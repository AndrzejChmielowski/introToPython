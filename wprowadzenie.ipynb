{
 "cells": [
  {
   "cell_type": "markdown",
   "metadata": {},
   "source": [
    "# Temat: Wprowadzenie do Pythona\n",
    "&nbsp; \n",
    "\n",
    "### Tomasz Dwojak"
   ]
  },
  {
   "cell_type": "markdown",
   "metadata": {},
   "source": [
    " * Tomasz Dwojak\n",
    " * Doktorant UAM\n",
    " * Zainteresowania naukowe: NLP & SMT\n",
    " * <t.dwojak@amu.edu.pl>\n",
    " * Pokój: B2-36\n",
    " * 5-letnia przygoda z Pythonem"
   ]
  },
  {
   "cell_type": "markdown",
   "metadata": {},
   "source": [
    "## Warunki zaliczenia\n",
    " * obowiązkowa obecność,\n",
    " * 3 zadania domowe (10 p.)"
   ]
  },
  {
   "cell_type": "markdown",
   "metadata": {},
   "source": [
    "## Ramowy plan zajęć\n",
    " * Ogólne wprowadzenie do Pythona (2:15h),\n",
    " * Data Analysis w Pythonie (3h),\n",
    " * Pythonowe rozmaitości (2:15h)."
   ]
  },
  {
   "cell_type": "markdown",
   "metadata": {},
   "source": [
    "## Przydatne zasoby\n",
    " * [Zanurkuj w Pythonie](https://upload.wikimedia.org/wikibooks/pl/5/5e/Zanurkuj_w_Pythonie.pdf),\n",
    " * [Kurs Pythona na DataCamp](https://campus.datacamp.com/courses/intro-to-python-for-data-science),\n",
    " * [Kursy na Courserze](https://www.coursera.org/courses?_facet_changed_=true&languages=en&primaryLanguages=en&query=python)\n",
    " * [Kurs na edX: Introduction to Python for Data Science (start 7-06-16]](https://www.edx.org/course/introduction-python-data-science-microsoft-dat208x-1)"
   ]
  },
  {
   "cell_type": "markdown",
   "metadata": {},
   "source": [
    "## Środowisko pracy\n",
    " * Python 2,\n",
    " * narzędzia: IPython Notebook / Jupyter,\n",
    " * Pracujesz na Windowsie lub OS X? Poznaj [Anacondę](https://www.continuum.io/downloads)!\n",
    " * Pliki do pracy: <https://github.com/tomekd/introToPython>"
   ]
  },
  {
   "cell_type": "markdown",
   "metadata": {},
   "source": [
    "## Dlaczego Python?"
   ]
  },
  {
   "cell_type": "markdown",
   "metadata": {},
   "source": [
    " * język programowania dla wszystkich: programistów, naukowców, pasjonatów;\n",
    " * posiada ogromną liczbę [modułów](https://pypi.python.org/pypi) (80.000), które ułatwiają pracę;\n",
    " *  można tak napisać kod, aby był wydajny (Cython, PyPy);\n",
    " * Aktualnie zajmuje 5 miejsce pod względem popularności [(TIOBE Index)](http://www.tiobe.com/tiobe_index);\n",
    " * Różne wersje: Python, Cython (C), Jython (Java), IronPython (C#).\n",
    " \n",
    " Motywacje zaczerpnięte m.in. z tego [artykułu](https://www.codefellows.org/blog/5-reasons-why-python-is-powerful-enough-for-google)."
   ]
  },
  {
   "cell_type": "markdown",
   "metadata": {},
   "source": [
    "## Jak podłączyć się z wydziałowym linuksem?"
   ]
  },
  {
   "cell_type": "markdown",
   "metadata": {},
   "source": [
    " * Opis z [strony laboratoriów](https://laboratoria.wmi.amu.edu.pl/LTS).\n",
    " * Pobieramy [x2go-client](http://wiki.x2go.org/doku.php/download:start) i instalujemy go. \n",
    " * Tworzymy nową sesję i podajemy następujące dane:\n",
    "  * Host: x2go.wmi.amu.edu.pl,\n",
    "  * login: jak w D1,\n",
    "  * sestion type: Wybieramy *Custom desktop* i spisujemy obok: ```usr/bin/mate-session```.\n",
    "  \n",
    "  \n",
    " "
   ]
  },
  {
   "cell_type": "markdown",
   "metadata": {},
   "source": [
    "## Jak uruchomić IPythona?\n",
    " * Uruchamiamy **MATE Terminal**,\n",
    " * wpisujemy ```ipython notebook```.\n",
    " * Po chwili uruchomi się przeglądarka internetowa. Przechodzimy do katalogu, gdzie mamy nasze arkusze.\n",
    " \n",
    "## Uwagi na temat IPythona\n",
    " * Samo wpisanie kodu do komórki nie wystarczy. Trzeba go jeszcze uruchomić. Polecam kombinację \"Shiftt+Enter\".\n",
    " * Działa podpowiadanie składni: wciśnij ```tab```, aby uzyskać podpowiedzi albo uzupełnić nazwę metody.\n",
    " "
   ]
  }
 ],
 "metadata": {
  "kernelspec": {
   "display_name": "IPython (Python 2)",
   "language": "python",
   "name": "python2"
  },
  "language_info": {
   "codemirror_mode": {
    "name": "ipython",
    "version": 2
   },
   "file_extension": ".py",
   "mimetype": "text/x-python",
   "name": "python",
   "nbconvert_exporter": "python",
   "pygments_lexer": "ipython2",
   "version": "2.7.11+"
  }
 },
 "nbformat": 4,
 "nbformat_minor": 0
}
