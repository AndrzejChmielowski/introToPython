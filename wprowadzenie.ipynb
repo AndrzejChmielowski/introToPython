{
 "cells": [
  {
   "cell_type": "markdown",
   "metadata": {
    "slideshow": {
     "slide_type": "slide"
    }
   },
   "source": [
    "# Języki skryptowe i R: Python\n",
    "&nbsp; \n",
    "\n",
    "### Tomasz Dwojak"
   ]
  },
  {
   "cell_type": "markdown",
   "metadata": {
    "slideshow": {
     "slide_type": "slide"
    }
   },
   "source": [
    " * Tomasz Dwojak\n",
    " * Doktorant UAM\n",
    " * Zainteresowania naukowe: Machine Translation\n",
    " * <t.dwojak@amu.edu.pl>\n",
    " * Pokój: B2-36\n",
    " * ponad 5-letnia przygoda z Pythonem"
   ]
  },
  {
   "cell_type": "markdown",
   "metadata": {
    "slideshow": {
     "slide_type": "slide"
    }
   },
   "source": [
    "## Warunki zaliczenia\n",
    " * Ocena jest wspólna z cześcią z R-em.\n",
    " * Zadania domowe po każdym tygodniu zajęć:\n",
    "  * pierwsze zadania domowe: 26-11-2016, 0:01\n",
    "  * drugie zadania domowe: 12-12-2016, 0:01"
   ]
  },
  {
   "cell_type": "markdown",
   "metadata": {
    "slideshow": {
     "slide_type": "slide"
    }
   },
   "source": [
    "## Ramowy plan zajęć\n",
    " * Dziś: Podstawy Pythona\n",
    " * W przyszłym tygodniu: analiza danych w Pythonie"
   ]
  },
  {
   "cell_type": "markdown",
   "metadata": {
    "slideshow": {
     "slide_type": "slide"
    }
   },
   "source": [
    "## Przydatne zasoby\n",
    " * [Zanurkuj w Pythonie](https://upload.wikimedia.org/wikibooks/pl/5/5e/Zanurkuj_w_Pythonie.pdf),\n",
    " * [Kurs Pythona na DataCamp](https://campus.datacamp.com/courses/intro-to-python-for-data-science),\n",
    " * [Kursy na Courserze](https://www.coursera.org/courses?_facet_changed_=true&languages=en&primaryLanguages=en&query=python)\n",
    " * [Kurs na edX: Introduction to Python for Data Science (start 7-06-16]](https://www.edx.org/course/introduction-python-data-science-microsoft-dat208x-1)"
   ]
  },
  {
   "cell_type": "markdown",
   "metadata": {
    "slideshow": {
     "slide_type": "slide"
    }
   },
   "source": [
    "## Środowisko pracy\n",
    " * Python 3,\n",
    " * narzędzia: IPython Notebook / Jupyter,\n",
    " * Pracujesz na Windowsie lub OS X? Poznaj [Anacondę](https://www.continuum.io/downloads)!\n",
    " * Pliki do pracy: <https://eduwiki.wmi.amu.edu.pl/tdwojak"
   ]
  },
  {
   "cell_type": "markdown",
   "metadata": {
    "slideshow": {
     "slide_type": "slide"
    }
   },
   "source": [
    "## Dlaczego Python?"
   ]
  },
  {
   "cell_type": "markdown",
   "metadata": {
    "slideshow": {
     "slide_type": "fragment"
    }
   },
   "source": [
    " * język programowania dla wszystkich: programistów, naukowców, pasjonatów;\n",
    " * posiada ogromną liczbę [modułów](https://pypi.python.org/pypi) (80.000), które ułatwiają pracę;\n",
    " *  można tak napisać kod, aby był wydajny (Cython, PyPy);\n",
    " * Aktualnie zajmuje 5 miejsce pod względem popularności [(TIOBE Index)](http://www.tiobe.com/tiobe_index);\n",
    " * Różne wersje: Python, Cython (C), Jython (Java), IronPython (C#).\n",
    " \n",
    " Motywacje zaczerpnięte m.in. z [5 Reasons why Python is Powerful Enough for Google](https://www.codefellows.org/blog/5-reasons-why-python-is-powerful-enough-for-google)."
   ]
  },
  {
   "cell_type": "markdown",
   "metadata": {
    "slideshow": {
     "slide_type": "slide"
    }
   },
   "source": [
    "## Jak podłączyć się z wydziałowym linuksem?"
   ]
  },
  {
   "cell_type": "markdown",
   "metadata": {
    "slideshow": {
     "slide_type": "fragment"
    }
   },
   "source": [
    " * Opis z [strony laboratoriów](https://laboratoria.wmi.amu.edu.pl/LTS).\n",
    " * Pobieramy [x2go-client](http://wiki.x2go.org/doku.php/download:start) i instalujemy. \n",
    " * Tworzymy nową sesję i podajemy następujące dane:\n",
    "  * Host: x2go.wmi.amu.edu.pl,\n",
    "  * login: jak w D1,\n",
    "  * sestion type: Wybieramy *Custom desktop* i spisujemy obok: ```usr/bin/mate-session```.\n",
    "Dokładny opis na stronie [laboratorów](https://laboratoria.wmi.amu.edu.pl/LTS)\n",
    "  \n",
    "  \n",
    " "
   ]
  },
  {
   "cell_type": "markdown",
   "metadata": {
    "slideshow": {
     "slide_type": "slide"
    }
   },
   "source": [
    "## Jak uruchomić IPythona?\n",
    " * Uruchamiamy **MATE Terminal**,\n",
    " * wpisujemy ```ipython notebook```.\n",
    " * Po chwili uruchomi się przeglądarka internetowa. Przechodzimy do katalogu, gdzie mamy nasze arkusze.\n",
    " \n",
    " "
   ]
  },
  {
   "cell_type": "code",
   "execution_count": null,
   "metadata": {
    "collapsed": true,
    "slideshow": {
     "slide_type": "skip"
    }
   },
   "outputs": [],
   "source": []
  },
  {
   "cell_type": "markdown",
   "metadata": {
    "slideshow": {
     "slide_type": "slide"
    }
   },
   "source": [
    "## Uwagi na temat IPythona\n",
    " * Python nie wymaga żadnego wielkiego IDE...\n",
    " * Na zajęciach będziemy korzystać z IPythona - interaktywnego interpretera\n",
    " * Arkusz IPythona składa się z komórek, do których wpisujemy kod naszego programy.\n",
    " * Aby uruchomić kod należy wcisnąć \"Play\", ale wcisnąć kombinacje klawiszy: ctrl+enter lub shift+enter"
   ]
  },
  {
   "cell_type": "code",
   "execution_count": null,
   "metadata": {
    "collapsed": true
   },
   "outputs": [],
   "source": []
  }
 ],
 "metadata": {
  "celltoolbar": "Slideshow",
  "kernelspec": {
   "display_name": "IPython (Python 2)",
   "language": "python",
   "name": "python2"
  },
  "language_info": {
   "codemirror_mode": {
    "name": "ipython",
    "version": 2
   },
   "file_extension": ".py",
   "mimetype": "text/x-python",
   "name": "python",
   "nbconvert_exporter": "python",
   "pygments_lexer": "ipython2",
   "version": "2.7.12"
  }
 },
 "nbformat": 4,
 "nbformat_minor": 0
}
