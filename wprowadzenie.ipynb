{
 "metadata": {
  "name": "",
  "signature": "sha256:133638f5c72fce77ba2861f8ca1d545db819c196721ad20b59d6ed84a0933593"
 },
 "nbformat": 3,
 "nbformat_minor": 0,
 "worksheets": [
  {
   "cells": [
    {
     "cell_type": "markdown",
     "metadata": {},
     "source": [
      "# Temat: Wprowadzenie do Pythona\n",
      "&nbsp; \n",
      "\n",
      "### Tomasz Dwojak"
     ]
    },
    {
     "cell_type": "markdown",
     "metadata": {},
     "source": [
      " * Tomasz Dwojak\n",
      " * Doktorant UAM\n",
      " * Zainteresowania naukowe: NLP & SMT\n",
      " * <t.dwojak@amu.edu.pl>\n",
      " * Pok\u00f3j: B2-36\n",
      " * 5-letnia przygoda z Pythonem"
     ]
    },
    {
     "cell_type": "markdown",
     "metadata": {},
     "source": [
      "## Warunki zaliczenia\n",
      " * obowi\u0105zkowa obecno\u015b\u0107,\n",
      " * 3 zadania domowe (10 p.)"
     ]
    },
    {
     "cell_type": "markdown",
     "metadata": {},
     "source": [
      "## Ramowy plan zaj\u0119\u0107\n",
      " * Og\u00f3lne wprowadzenie do Pythona (2:15h),\n",
      " * Data Analysis w Pythonie (3h),\n",
      " * Pythonowe rozmaito\u015bci (2:15h)."
     ]
    },
    {
     "cell_type": "markdown",
     "metadata": {},
     "source": [
      "## Przydatne zasoby\n",
      " * [Zanurkuj w Pythonie](https://upload.wikimedia.org/wikibooks/pl/5/5e/Zanurkuj_w_Pythonie.pdf),\n",
      " * [Kurs Pythona na DataCamp](https://campus.datacamp.com/courses/intro-to-python-for-data-science),\n",
      " * [Kursy na Courserze](https://www.coursera.org/courses?_facet_changed_=true&languages=en&primaryLanguages=en&query=python)\n",
      " * [Kurs na edX: Introduction to Python for Data Science (start 7-06-16]](https://www.edx.org/course/introduction-python-data-science-microsoft-dat208x-1)"
     ]
    },
    {
     "cell_type": "markdown",
     "metadata": {},
     "source": [
      "## \u015arodowisko pracy\n",
      " * Python 2,\n",
      " * narz\u0119dzia: IPython Notebook / Jupyter,\n",
      " * Pracujesz na Windowsie lub OS X? Poznaj [Anacond\u0119](https://www.continuum.io/downloads)!\n",
      " * Pliki do pracy: <https://github.com/tomekd/introToPython>"
     ]
    },
    {
     "cell_type": "markdown",
     "metadata": {},
     "source": [
      "## Dlaczego Python?"
     ]
    },
    {
     "cell_type": "markdown",
     "metadata": {},
     "source": [
      " * j\u0119zyk programowania dla wszystkich: programist\u00f3w, naukowc\u00f3w, pasjonat\u00f3w;\n",
      " * posiada ogromn\u0105 liczb\u0119 [modu\u0142\u00f3w](https://pypi.python.org/pypi) (80.000), kt\u00f3re u\u0142atwiaj\u0105 prac\u0119;\n",
      " *  mo\u017cna tak napisa\u0107 kod, aby by\u0142 wydajny (Cython, PyPy);\n",
      " * Aktualnie zajmuje 5 miejsce pod wzgl\u0119dem popularno\u015bci [(TIOBE Index)](http://www.tiobe.com/tiobe_index);\n",
      " * R\u00f3\u017cne wersje: Python, Cython (C), Jython (Java), IronPython (C#).\n",
      " \n",
      " Motywacje zaczerpni\u0119te m.in. z tego [artyku\u0142u](https://www.codefellows.org/blog/5-reasons-why-python-is-powerful-enough-for-google)."
     ]
    },
    {
     "cell_type": "markdown",
     "metadata": {},
     "source": [
      "## Jak pod\u0142\u0105czy\u0107\u00a0si\u0119\u00a0z wydzia\u0142owym linuksem?"
     ]
    },
    {
     "cell_type": "markdown",
     "metadata": {},
     "source": [
      " * Opis z [strony laboratori\u00f3w](https://laboratoria.wmi.amu.edu.pl/LTS).\n",
      " * Pobieramy [x2go-client](http://wiki.x2go.org/doku.php/download:start) i instalujemy go. \n",
      " * Tworzymy now\u0105 sesj\u0119 i podajemy nast\u0119puj\u0105ce dane:\n",
      "  * Host: x2go.wmi.amu.edu.pl,\n",
      "  * login: jak w D1,\n",
      "  * sestion type: Wybieramy *Custom desktop* i spisujemy obok: ```usr/bin/mate-session```.\n",
      "  \n",
      "  \n",
      " "
     ]
    },
    {
     "cell_type": "markdown",
     "metadata": {},
     "source": [
      "## Jak uruchomi\u0107 IPythona?\n",
      " * Uruchamiamy **MATE Terminal**,\n",
      " * wpisujemy ```ipython notebook```.\n",
      " * Po chwili uruchomi si\u0119 przegl\u0105darka internetowa. Przechodzimy do katalogu, gdzie mamy nasze arkusze.\n",
      " \n",
      "## Uwagi na temat IPythona\n",
      " * Samo wpisanie kodu do kom\u00f3rki nie wystarczy. Trzeba go jeszcze uruchomi\u0107. Polecam kombinacj\u0119\u00a0\"Shiftt+Enter\".\n",
      " * Dzia\u0142a podpowiadanie sk\u0142adni: wci\u015bnij ```tab```, aby uzyska\u0107 podpowiedzi albo uzupe\u0142ni\u0107 nazw\u0119\u00a0metody.\n",
      " "
     ]
    }
   ],
   "metadata": {}
  }
 ]
}